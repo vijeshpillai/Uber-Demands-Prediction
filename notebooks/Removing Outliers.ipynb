{
 "cells": [
  {
   "cell_type": "markdown",
   "id": "77b65094-4d53-4c8b-8f1c-73830065af51",
   "metadata": {},
   "source": [
    "# Load the packages"
   ]
  },
  {
   "cell_type": "code",
   "execution_count": 1,
   "id": "f95b25ff-9fd4-4084-8851-3ec9ae5709eb",
   "metadata": {},
   "outputs": [],
   "source": [
    "import pandas as pd\n",
    "import numpy as np\n",
    "import matplotlib.pyplot as plt\n",
    "import seaborn as sns\n",
    "import dask.dataframe as dd"
   ]
  },
  {
   "cell_type": "markdown",
   "id": "22d0702b-7bee-4ab0-91b0-1620ccc7d5aa",
   "metadata": {},
   "source": [
    "# Import the Data"
   ]
  },
  {
   "cell_type": "code",
   "execution_count": 2,
   "id": "df973386-fe47-4d53-95f6-229606a9938d",
   "metadata": {},
   "outputs": [],
   "source": [
    "# paths for the three dfs\n",
    "\n",
    "df_jan_path = \"../data/raw/yellow_tripdata_2016-01.csv\"\n",
    "df_feb_path = \"../data/raw/yellow_tripdata_2016-02.csv\"\n",
    "df_mar_path = \"../data/raw/yellow_tripdata_2016-03.csv\"\n",
    "\n",
    "# load the dataframes\n",
    "\n",
    "df_jan = dd.read_csv(df_jan_path, assume_missing=True, usecols= ['trip_distance', 'pickup_longitude',\n",
    "       'pickup_latitude','dropoff_longitude', 'dropoff_latitude', 'fare_amount'])\n",
    "df_feb = dd.read_csv(df_feb_path, assume_missing=True, usecols= ['trip_distance', 'pickup_longitude',\n",
    "       'pickup_latitude','dropoff_longitude', 'dropoff_latitude', 'fare_amount'])\n",
    "df_mar = dd.read_csv(df_mar_path, assume_missing=True, usecols= ['trip_distance', 'pickup_longitude',\n",
    "       'pickup_latitude','dropoff_longitude', 'dropoff_latitude', 'fare_amount'])"
   ]
  },
  {
   "cell_type": "code",
   "execution_count": 3,
   "id": "06686106-7067-4b28-8e97-dade2945f76d",
   "metadata": {},
   "outputs": [
    {
     "data": {
      "text/html": [
       "<div><strong>Dask DataFrame Structure:</strong></div>\n",
       "<table border=\"1\" class=\"dataframe\">\n",
       "  <thead>\n",
       "    <tr style=\"text-align: right;\">\n",
       "      <th></th>\n",
       "      <th>trip_distance</th>\n",
       "      <th>pickup_longitude</th>\n",
       "      <th>pickup_latitude</th>\n",
       "      <th>dropoff_longitude</th>\n",
       "      <th>dropoff_latitude</th>\n",
       "      <th>fare_amount</th>\n",
       "    </tr>\n",
       "    <tr>\n",
       "      <th>npartitions=26</th>\n",
       "      <th></th>\n",
       "      <th></th>\n",
       "      <th></th>\n",
       "      <th></th>\n",
       "      <th></th>\n",
       "      <th></th>\n",
       "    </tr>\n",
       "  </thead>\n",
       "  <tbody>\n",
       "    <tr>\n",
       "      <th></th>\n",
       "      <td>float64</td>\n",
       "      <td>float64</td>\n",
       "      <td>float64</td>\n",
       "      <td>float64</td>\n",
       "      <td>float64</td>\n",
       "      <td>float64</td>\n",
       "    </tr>\n",
       "    <tr>\n",
       "      <th></th>\n",
       "      <td>...</td>\n",
       "      <td>...</td>\n",
       "      <td>...</td>\n",
       "      <td>...</td>\n",
       "      <td>...</td>\n",
       "      <td>...</td>\n",
       "    </tr>\n",
       "    <tr>\n",
       "      <th>...</th>\n",
       "      <td>...</td>\n",
       "      <td>...</td>\n",
       "      <td>...</td>\n",
       "      <td>...</td>\n",
       "      <td>...</td>\n",
       "      <td>...</td>\n",
       "    </tr>\n",
       "    <tr>\n",
       "      <th></th>\n",
       "      <td>...</td>\n",
       "      <td>...</td>\n",
       "      <td>...</td>\n",
       "      <td>...</td>\n",
       "      <td>...</td>\n",
       "      <td>...</td>\n",
       "    </tr>\n",
       "    <tr>\n",
       "      <th></th>\n",
       "      <td>...</td>\n",
       "      <td>...</td>\n",
       "      <td>...</td>\n",
       "      <td>...</td>\n",
       "      <td>...</td>\n",
       "      <td>...</td>\n",
       "    </tr>\n",
       "  </tbody>\n",
       "</table>\n",
       "<div>Dask Name: to_string_dtype, 2 expressions</div>"
      ],
      "text/plain": [
       "Dask DataFrame Structure:\n",
       "               trip_distance pickup_longitude pickup_latitude dropoff_longitude dropoff_latitude fare_amount\n",
       "npartitions=26                                                                                              \n",
       "                     float64          float64         float64           float64          float64     float64\n",
       "                         ...              ...             ...               ...              ...         ...\n",
       "...                      ...              ...             ...               ...              ...         ...\n",
       "                         ...              ...             ...               ...              ...         ...\n",
       "                         ...              ...             ...               ...              ...         ...\n",
       "Dask Name: to_string_dtype, 2 expressions\n",
       "Expr=ArrowStringConversion(frame=FromMapProjectable(e5679f9))"
      ]
     },
     "execution_count": 3,
     "metadata": {},
     "output_type": "execute_result"
    }
   ],
   "source": [
    "df_jan"
   ]
  },
  {
   "cell_type": "code",
   "execution_count": 4,
   "id": "24ffba8c-ba00-4d7d-a346-fd7c21ae39c2",
   "metadata": {},
   "outputs": [],
   "source": [
    "# concat the three dataframes as one\n",
    "\n",
    "df_final = dd.concat([df_jan, df_feb, df_mar], axis=0)"
   ]
  },
  {
   "cell_type": "markdown",
   "id": "ef3e25c8-6c2c-4631-8ade-4f79f6076277",
   "metadata": {},
   "source": [
    "### New york bounding box:\n",
    "min_latitude = 40.60  \n",
    "max_latitude = 40.85  \n",
    "min_longitude = -74.05  \n",
    "max_longitude = -73.70  "
   ]
  },
  {
   "cell_type": "code",
   "execution_count": 5,
   "id": "b91b7d9b-bd20-4af9-9172-4d7384b964bc",
   "metadata": {},
   "outputs": [],
   "source": [
    "# set the values of coordinates\n",
    "\n",
    "min_latitude = 40.60\n",
    "max_latitude = 40.85\n",
    "min_longitude = -74.05\n",
    "max_longitude = -73.70"
   ]
  },
  {
   "cell_type": "code",
   "execution_count": 6,
   "id": "11e61277-daf9-4f3b-b823-1c084a2a7d9a",
   "metadata": {},
   "outputs": [],
   "source": [
    "# fare amount column\n",
    "fare_amount = df_final[\"fare_amount\"].compute()\n",
    "\n",
    "# trip distance column\n",
    "trip_distance = df_final[\"trip_distance\"].compute()"
   ]
  },
  {
   "cell_type": "code",
   "execution_count": 7,
   "id": "5adb7965-38b4-4b67-9dc1-d96bfc710752",
   "metadata": {},
   "outputs": [
    {
     "data": {
      "text/plain": [
       "3.4499859"
      ]
     },
     "execution_count": 7,
     "metadata": {},
     "output_type": "execute_result"
    }
   ],
   "source": [
    "fare_amount.shape[0] / 10000000"
   ]
  },
  {
   "cell_type": "code",
   "execution_count": 8,
   "id": "436981aa-cb72-4911-8339-3e938e961a78",
   "metadata": {},
   "outputs": [
    {
     "data": {
      "text/plain": [
       "0.991        52.00\n",
       "0.992        52.00\n",
       "0.993        52.00\n",
       "0.994        52.00\n",
       "0.995        54.00\n",
       "0.996        58.50\n",
       "0.997        63.00\n",
       "0.998        69.00\n",
       "0.999        81.00\n",
       "1.000    429496.72\n",
       "Name: fare_amount, dtype: float64"
      ]
     },
     "execution_count": 8,
     "metadata": {},
     "output_type": "execute_result"
    }
   ],
   "source": [
    "# percentile values for fare amount\n",
    "\n",
    "percentile_values = np.arange(0.991,1.000, 0.001)\n",
    "percentile_values\n",
    "\n",
    "fare_amount.quantile(percentile_values)"
   ]
  },
  {
   "cell_type": "code",
   "execution_count": 9,
   "id": "e9f5df7e-5711-4947-a530-ec447cb39440",
   "metadata": {},
   "outputs": [
    {
     "name": "stdout",
     "output_type": "stream",
     "text": [
      "0.5\n",
      "81.0\n"
     ]
    }
   ],
   "source": [
    "max_fare_amount_val = fare_amount.quantile(percentile_values).iloc[-2].item()\n",
    "min_fare_amount_val = 0.50\n",
    "\n",
    "print(min_fare_amount_val)\n",
    "print(max_fare_amount_val)"
   ]
  },
  {
   "cell_type": "code",
   "execution_count": 10,
   "id": "507984a2-f827-4c09-91b4-466d3efba16a",
   "metadata": {},
   "outputs": [
    {
     "data": {
      "text/plain": [
       "0.991          18.80\n",
       "0.992          19.00\n",
       "0.993          19.30\n",
       "0.994          19.63\n",
       "0.995          20.04\n",
       "0.996          20.51\n",
       "0.997          21.10\n",
       "0.998          21.90\n",
       "0.999          24.43\n",
       "1.000    19072628.80\n",
       "Name: trip_distance, dtype: float64"
      ]
     },
     "execution_count": 10,
     "metadata": {},
     "output_type": "execute_result"
    }
   ],
   "source": [
    "trip_distance.quantile(percentile_values)"
   ]
  },
  {
   "cell_type": "code",
   "execution_count": 11,
   "id": "65612e2d-a8bd-44fb-a4cd-7725f82ccbb4",
   "metadata": {},
   "outputs": [
    {
     "name": "stdout",
     "output_type": "stream",
     "text": [
      "0.25\n",
      "24.43\n"
     ]
    }
   ],
   "source": [
    "# percentile values for trip_distance\n",
    "\n",
    "min_trip_distance_val = 0.25\n",
    "max_trip_distance_val = trip_distance.quantile(percentile_values).iloc[-2].item()\n",
    "\n",
    "print(min_trip_distance_val)\n",
    "print(max_trip_distance_val)"
   ]
  },
  {
   "cell_type": "markdown",
   "id": "8212f646-0220-45c8-9729-674c87c7571f",
   "metadata": {},
   "source": [
    "# Remove Outliers from the Data"
   ]
  },
  {
   "cell_type": "code",
   "execution_count": 12,
   "id": "5b4e00f8-2153-4bc9-9504-51e3ca344c5e",
   "metadata": {},
   "outputs": [],
   "source": [
    "# select data points within the given ranges\n",
    "\n",
    "df_final = df_final.loc[(df_final[\"pickup_latitude\"].between(min_latitude, max_latitude, inclusive=\"both\")) & \n",
    "(df_final[\"pickup_longitude\"].between(min_longitude, max_longitude, inclusive=\"both\")) & \n",
    "(df_final[\"dropoff_latitude\"].between(min_latitude, max_latitude, inclusive=\"both\")) & \n",
    "(df_final[\"dropoff_longitude\"].between(min_longitude, max_longitude, inclusive=\"both\")), :]"
   ]
  },
  {
   "cell_type": "code",
   "execution_count": 13,
   "id": "785e696c-839c-4738-b61b-00d1f7f59884",
   "metadata": {},
   "outputs": [],
   "source": [
    "df_final = df_final.loc[(df_final[\"fare_amount\"].between(min_fare_amount_val,max_fare_amount_val,inclusive=\"both\")) & \n",
    "(df_final[\"trip_distance\"].between(min_trip_distance_val,max_trip_distance_val,inclusive=\"both\"))]"
   ]
  },
  {
   "cell_type": "markdown",
   "id": "e7cdeea2-32d8-46d6-9e3e-07f8365f077d",
   "metadata": {},
   "source": [
    "## Location Based Columns"
   ]
  },
  {
   "cell_type": "code",
   "execution_count": 14,
   "id": "cb3cae4b-3fcc-4b9a-905b-7e3f340e04fa",
   "metadata": {},
   "outputs": [
    {
     "data": {
      "text/html": [
       "<div><strong>Dask DataFrame Structure:</strong></div>\n",
       "<table border=\"1\" class=\"dataframe\">\n",
       "  <thead>\n",
       "    <tr style=\"text-align: right;\">\n",
       "      <th></th>\n",
       "      <th>pickup_latitude</th>\n",
       "      <th>pickup_longitude</th>\n",
       "      <th>dropoff_latitude</th>\n",
       "      <th>dropoff_longitude</th>\n",
       "    </tr>\n",
       "    <tr>\n",
       "      <th>npartitions=82</th>\n",
       "      <th></th>\n",
       "      <th></th>\n",
       "      <th></th>\n",
       "      <th></th>\n",
       "    </tr>\n",
       "  </thead>\n",
       "  <tbody>\n",
       "    <tr>\n",
       "      <th></th>\n",
       "      <td>float64</td>\n",
       "      <td>float64</td>\n",
       "      <td>float64</td>\n",
       "      <td>float64</td>\n",
       "    </tr>\n",
       "    <tr>\n",
       "      <th></th>\n",
       "      <td>...</td>\n",
       "      <td>...</td>\n",
       "      <td>...</td>\n",
       "      <td>...</td>\n",
       "    </tr>\n",
       "    <tr>\n",
       "      <th>...</th>\n",
       "      <td>...</td>\n",
       "      <td>...</td>\n",
       "      <td>...</td>\n",
       "      <td>...</td>\n",
       "    </tr>\n",
       "    <tr>\n",
       "      <th></th>\n",
       "      <td>...</td>\n",
       "      <td>...</td>\n",
       "      <td>...</td>\n",
       "      <td>...</td>\n",
       "    </tr>\n",
       "    <tr>\n",
       "      <th></th>\n",
       "      <td>...</td>\n",
       "      <td>...</td>\n",
       "      <td>...</td>\n",
       "      <td>...</td>\n",
       "    </tr>\n",
       "  </tbody>\n",
       "</table>\n",
       "<div>Dask Name: getitem, 27 expressions</div>"
      ],
      "text/plain": [
       "Dask DataFrame Structure:\n",
       "               pickup_latitude pickup_longitude dropoff_latitude dropoff_longitude\n",
       "npartitions=82                                                                    \n",
       "                       float64          float64          float64           float64\n",
       "                           ...              ...              ...               ...\n",
       "...                        ...              ...              ...               ...\n",
       "                           ...              ...              ...               ...\n",
       "                           ...              ...              ...               ...\n",
       "Dask Name: getitem, 27 expressions\n",
       "Expr=(Loc(frame=Loc(frame=(Concat(frames=[ArrowStringConversion(frame=FromMapProjectable(e5679f9)), ArrowStringConversion(frame=FromMapProjectable(e804b47)), ArrowStringConversion(frame=FromMapProjectable(7f27567))], ))[['trip_distance', 'pickup_longitude', 'pickup_latitude', 'dropoff_longitude', 'dropoff_latitude', 'fare_amount']], iindexer=Between(frame=(Concat(frames=[ArrowStringConversion(frame=FromMapProjectable(e5679f9)), ArrowStringConversion(frame=FromMapProjectable(e804b47)), ArrowStringConversion(frame=FromMapProjectable(7f27567))], ))['pickup_latitude'], left=40.6, right=40.85) & Between(frame=(Concat(frames=[ArrowStringConversion(frame=FromMapProjectable(e5679f9)), ArrowStringConversion(frame=FromMapProjectable(e804b47)), ArrowStringConversion(frame=FromMapProjectable(7f27567))], ))['pickup_longitude'], left=-74.05, right=-73.7) & Between(frame=(Concat(frames=[ArrowStringConversion(frame=FromMapProjectable(e5679f9)), ArrowStringConversion(frame=FromMapProjectable(e804b47)), ArrowStringConversion(frame=FromMapProjectable(7f27567))], ))['dropoff_latitude'], left=40.6, right=40.85) & Between(frame=(Concat(frames=[ArrowStringConversion(frame=FromMapProjectable(e5679f9)), ArrowStringConversion(frame=FromMapProjectable(e804b47)), ArrowStringConversion(frame=FromMapProjectable(7f27567))], ))['dropoff_longitude'], left=-74.05, right=-73.7)), iindexer=Between(frame=(Loc(frame=(Concat(frames=[ArrowStringConversion(frame=FromMapProjectable(e5679f9)), ArrowStringConversion(frame=FromMapProjectable(e804b47)), ArrowStringConversion(frame=FromMapProjectable(7f27567))], ))[['trip_distance', 'pickup_longitude', 'pickup_latitude', 'dropoff_longitude', 'dropoff_latitude', 'fare_amount']], iindexer=Between(frame=(Concat(frames=[ArrowStringConversion(frame=FromMapProjectable(e5679f9)), ArrowStringConversion(frame=FromMapProjectable(e804b47)), ArrowStringConversion(frame=FromMapProjectable(7f27567))], ))['pickup_latitude'], left=40.6, right=40.85) & Between(frame=(Concat(frames=[ArrowStringConversion(frame=FromMapProjectable(e5679f9)), ArrowStringConversion(frame=FromMapProjectable(e804b47)), ArrowStringConversion(frame=FromMapProjectable(7f27567))], ))['pickup_longitude'], left=-74.05, right=-73.7) & Between(frame=(Concat(frames=[ArrowStringConversion(frame=FromMapProjectable(e5679f9)), ArrowStringConversion(frame=FromMapProjectable(e804b47)), ArrowStringConversion(frame=FromMapProjectable(7f27567))], ))['dropoff_latitude'], left=40.6, right=40.85) & Between(frame=(Concat(frames=[ArrowStringConversion(frame=FromMapProjectable(e5679f9)), ArrowStringConversion(frame=FromMapProjectable(e804b47)), ArrowStringConversion(frame=FromMapProjectable(7f27567))], ))['dropoff_longitude'], left=-74.05, right=-73.7)))['fare_amount'], left=0.5, right=81.0) & Between(frame=(Loc(frame=(Concat(frames=[ArrowStringConversion(frame=FromMapProjectable(e5679f9)), ArrowStringConversion(frame=FromMapProjectable(e804b47)), ArrowStringConversion(frame=FromMapProjectable(7f27567))], ))[['trip_distance', 'pickup_longitude', 'pickup_latitude', 'dropoff_longitude', 'dropoff_latitude', 'fare_amount']], iindexer=Between(frame=(Concat(frames=[ArrowStringConversion(frame=FromMapProjectable(e5679f9)), ArrowStringConversion(frame=FromMapProjectable(e804b47)), ArrowStringConversion(frame=FromMapProjectable(7f27567))], ))['pickup_latitude'], left=40.6, right=40.85) & Between(frame=(Concat(frames=[ArrowStringConversion(frame=FromMapProjectable(e5679f9)), ArrowStringConversion(frame=FromMapProjectable(e804b47)), ArrowStringConversion(frame=FromMapProjectable(7f27567))], ))['pickup_longitude'], left=-74.05, right=-73.7) & Between(frame=(Concat(frames=[ArrowStringConversion(frame=FromMapProjectable(e5679f9)), ArrowStringConversion(frame=FromMapProjectable(e804b47)), ArrowStringConversion(frame=FromMapProjectable(7f27567))], ))['dropoff_latitude'], left=40.6, right=40.85) & Between(frame=(Concat(frames=[ArrowStringConversion(frame=FromMapProjectable(e5679f9)), ArrowStringConversion(frame=FromMapProjectable(e804b47)), ArrowStringConversion(frame=FromMapProjectable(7f27567))], ))['dropoff_longitude'], left=-74.05, right=-73.7)))['trip_distance'], left=0.25, right=24.43)))[['pickup_latitude', 'pickup_longitude', 'dropoff_latitude', 'dropoff_longitude']]"
      ]
     },
     "execution_count": 14,
     "metadata": {},
     "output_type": "execute_result"
    }
   ],
   "source": [
    "# make a subset of location based columns\n",
    "\n",
    "location_subset = df_final[['pickup_latitude','pickup_longitude', \n",
    "                           'dropoff_latitude','dropoff_longitude']]\n",
    "\n",
    "location_subset"
   ]
  },
  {
   "cell_type": "code",
   "execution_count": 15,
   "id": "e1339cec-cddc-4723-94e4-9a9c707a3576",
   "metadata": {},
   "outputs": [
    {
     "data": {
      "image/png": "[encoded data removed]",
      "text/plain": [
       "<Figure size 1200x500 with 4 Axes>"
      ]
     },
     "metadata": {},
     "output_type": "display_data"
    }
   ],
   "source": [
    "# boxplots for location based columns\n",
    "\n",
    "fig, (ax1, ax2) = plt.subplots(nrows=2, ncols=2, figsize=(12,5))\n",
    "for i in range(4):\n",
    "    if i <= 1:\n",
    "        # plot the boxplot\n",
    "        sns.boxplot(y=location_subset.iloc[:,i].compute(),ax=ax1[i],whis=3)\n",
    "    else:\n",
    "        # plot the boxplot\n",
    "        sns.boxplot(y=location_subset.iloc[:,i].compute(),ax=ax2[i - 2],whis=3)"
   ]
  },
  {
   "cell_type": "markdown",
   "id": "a73e7ca4-2a47-4ed5-9674-feaa547db9ed",
   "metadata": {},
   "source": [
    "## Trip Distance"
   ]
  },
  {
   "cell_type": "code",
   "execution_count": 16,
   "id": "f798ad64-e2c2-4590-89aa-91c52501f29e",
   "metadata": {},
   "outputs": [
    {
     "data": {
      "text/plain": [
       "<Axes: ylabel='trip_distance'>"
      ]
     },
     "execution_count": 16,
     "metadata": {},
     "output_type": "execute_result"
    },
    {
     "data": {
      "image/png": "[encoded data removed]",
      "text/plain": [
       "<Figure size 640x480 with 1 Axes>"
      ]
     },
     "metadata": {},
     "output_type": "display_data"
    }
   ],
   "source": [
    "# boxplot for the trip distance\n",
    "\n",
    "sns.boxplot(df_final.loc[:,\"trip_distance\"].compute(), whis=3)"
   ]
  },
  {
   "cell_type": "markdown",
   "id": "ec390480-7632-457a-b37f-5f1d139e7415",
   "metadata": {},
   "source": [
    "## Fare Amount"
   ]
  },
  {
   "cell_type": "code",
   "execution_count": 17,
   "id": "457ef694-0955-49a2-9177-5036f9b97aa3",
   "metadata": {},
   "outputs": [
    {
     "data": {
      "text/plain": [
       "<Axes: ylabel='fare_amount'>"
      ]
     },
     "execution_count": 17,
     "metadata": {},
     "output_type": "execute_result"
    },
    {
     "data": {
      "image/png": "[encoded data removed]",
      "text/plain": [
       "<Figure size 640x480 with 1 Axes>"
      ]
     },
     "metadata": {},
     "output_type": "display_data"
    }
   ],
   "source": [
    "# boxplot for the fare amount\n",
    "\n",
    "sns.boxplot(df_final.loc[:,\"fare_amount\"].compute(), whis=3)"
   ]
  },
  {
   "cell_type": "code",
   "execution_count": 18,
   "id": "beb65657-a6da-45fb-ae1a-52795ecbebf8",
   "metadata": {},
   "outputs": [],
   "source": [
    "# save the pickup coordinates dataset\n",
    "\n",
    "save_path = \"../data/interim/location_data.csv\"\n",
    "\n",
    "pickup_coord_dataset = df_final.loc[:,['pickup_latitude','pickup_longitude']]"
   ]
  },
  {
   "cell_type": "code",
   "execution_count": 19,
   "id": "ec598bd6-2cf1-407a-b3a3-194e9b88c76e",
   "metadata": {},
   "outputs": [
    {
     "data": {
      "image/svg+xml": [
       "<?xml version=\"1.0\" encoding=\"UTF-8\" standalone=\"no\"?>\n",
       "<!DOCTYPE svg PUBLIC \"-//W3C//DTD SVG 1.1//EN\"\n",
       " \"http://www.w3.org/Graphics/SVG/1.1/DTD/svg11.dtd\">\n",
       "<!-- Generated by graphviz version 2.43.0 (0)\n",
       " -->\n",
       "<!-- Title: %3 Pages: 1 -->\n",
       "<svg width=\"2241pt\" height=\"980pt\"\n",
       " viewBox=\"0.00 0.00 2240.50 980.00\" xmlns=\"http://www.w3.org/2000/svg\" xmlns:xlink=\"http://www.w3.org/1999/xlink\">\n",
       "<g id=\"graph0\" class=\"graph\" transform=\"scale(1 1) rotate(0) translate(4 976)\">\n",
       "<title>%3</title>\n",
       "<polygon fill=\"white\" stroke=\"transparent\" points=\"-4,4 -4,-976 2236.5,-976 2236.5,4 -4,4\"/>\n",
       "<!-- 3719781089502921209 -->\n",
       "<g id=\"node1\" class=\"node\">\n",
       "<title>3719781089502921209</title>\n",
       "<polygon fill=\"none\" stroke=\"black\" points=\"939,-972 397,-972 397,-936 939,-936 939,-972\"/>\n",
       "<text text-anchor=\"middle\" x=\"668\" y=\"-949\" font-family=\"Helvetica,sans-Serif\" font-size=\"20.00\">Projection(Loc, [&#39;pickup_latitude&#39;, &#39;pickup_longitude&#39;])</text>\n",
       "</g>\n",
       "<!-- &#45;6762169759767061585 -->\n",
       "<g id=\"node2\" class=\"node\">\n",
       "<title>&#45;6762169759767061585</title>\n",
       "<polygon fill=\"none\" stroke=\"black\" points=\"743,-900 593,-900 593,-864 743,-864 743,-900\"/>\n",
       "<text text-anchor=\"middle\" x=\"668\" y=\"-877\" font-family=\"Helvetica,sans-Serif\" font-size=\"20.00\">Loc(Loc, And)</text>\n",
       "</g>\n",
       "<!-- &#45;6762169759767061585&#45;&gt;3719781089502921209 -->\n",
       "<g id=\"edge1\" class=\"edge\">\n",
       "<title>&#45;6762169759767061585&#45;&gt;3719781089502921209</title>\n",
       "<path fill=\"none\" stroke=\"black\" d=\"M668,-900.3C668,-908.02 668,-917.29 668,-925.89\"/>\n",
       "<polygon fill=\"black\" stroke=\"black\" points=\"664.5,-925.9 668,-935.9 671.5,-925.9 664.5,-925.9\"/>\n",
       "</g>\n",
       "<!-- 5355069193766568686 -->\n",
       "<g id=\"node3\" class=\"node\">\n",
       "<title>5355069193766568686</title>\n",
       "<polygon fill=\"none\" stroke=\"black\" points=\"885.5,-828 630.5,-828 630.5,-792 885.5,-792 885.5,-828\"/>\n",
       "<text text-anchor=\"middle\" x=\"758\" y=\"-805\" font-family=\"Helvetica,sans-Serif\" font-size=\"20.00\">And(Between, Between)</text>\n",
       "</g>\n",
       "<!-- 5355069193766568686&#45;&gt;&#45;6762169759767061585 -->\n",
       "<g id=\"edge3\" class=\"edge\">\n",
       "<title>5355069193766568686&#45;&gt;&#45;6762169759767061585</title>\n",
       "<path fill=\"none\" stroke=\"black\" d=\"M735.75,-828.3C724.42,-837.12 710.47,-847.97 698.18,-857.53\"/>\n",
       "<polygon fill=\"black\" stroke=\"black\" points=\"695.74,-854.99 689.99,-863.9 700.03,-860.52 695.74,-854.99\"/>\n",
       "</g>\n",
       "<!-- &#45;3205748323775832965 -->\n",
       "<g id=\"node4\" class=\"node\">\n",
       "<title>&#45;3205748323775832965</title>\n",
       "<polygon fill=\"none\" stroke=\"black\" points=\"865.5,-756 650.5,-756 650.5,-720 865.5,-720 865.5,-756\"/>\n",
       "<text text-anchor=\"middle\" x=\"758\" y=\"-733\" font-family=\"Helvetica,sans-Serif\" font-size=\"20.00\">Between(Projection)</text>\n",
       "</g>\n",
       "<!-- &#45;3205748323775832965&#45;&gt;5355069193766568686 -->\n",
       "<g id=\"edge5\" class=\"edge\">\n",
       "<title>&#45;3205748323775832965&#45;&gt;5355069193766568686</title>\n",
       "<path fill=\"none\" stroke=\"black\" d=\"M758,-756.3C758,-764.02 758,-773.29 758,-781.89\"/>\n",
       "<polygon fill=\"black\" stroke=\"black\" points=\"754.5,-781.9 758,-791.9 761.5,-781.9 754.5,-781.9\"/>\n",
       "</g>\n",
       "<!-- 5685177216408960542 -->\n",
       "<g id=\"node5\" class=\"node\">\n",
       "<title>5685177216408960542</title>\n",
       "<polygon fill=\"none\" stroke=\"black\" points=\"909,-684 607,-684 607,-648 909,-648 909,-684\"/>\n",
       "<text text-anchor=\"middle\" x=\"758\" y=\"-661\" font-family=\"Helvetica,sans-Serif\" font-size=\"20.00\">Projection(Loc, trip_distance)</text>\n",
       "</g>\n",
       "<!-- 5685177216408960542&#45;&gt;&#45;3205748323775832965 -->\n",
       "<g id=\"edge6\" class=\"edge\">\n",
       "<title>5685177216408960542&#45;&gt;&#45;3205748323775832965</title>\n",
       "<path fill=\"none\" stroke=\"black\" d=\"M758,-684.3C758,-692.02 758,-701.29 758,-709.89\"/>\n",
       "<polygon fill=\"black\" stroke=\"black\" points=\"754.5,-709.9 758,-719.9 761.5,-709.9 754.5,-709.9\"/>\n",
       "</g>\n",
       "<!-- &#45;2107783309036646770 -->\n",
       "<g id=\"node6\" class=\"node\">\n",
       "<title>&#45;2107783309036646770</title>\n",
       "<polygon fill=\"none\" stroke=\"black\" points=\"865,-612 651,-612 651,-576 865,-576 865,-612\"/>\n",
       "<text text-anchor=\"middle\" x=\"758\" y=\"-589\" font-family=\"Helvetica,sans-Serif\" font-size=\"20.00\">Loc(Projection, And)</text>\n",
       "</g>\n",
       "<!-- &#45;2107783309036646770&#45;&gt;&#45;6762169759767061585 -->\n",
       "<g id=\"edge2\" class=\"edge\">\n",
       "<title>&#45;2107783309036646770&#45;&gt;&#45;6762169759767061585</title>\n",
       "<path fill=\"none\" stroke=\"black\" d=\"M650.83,-610.18C630.16,-618.13 610.93,-630.09 598,-648 575.47,-679.2 562.91,-705.23 621,-828 625.91,-838.38 633.5,-848.25 641.15,-856.58\"/>\n",
       "<polygon fill=\"black\" stroke=\"black\" points=\"638.65,-859.04 648.12,-863.79 643.68,-854.17 638.65,-859.04\"/>\n",
       "</g>\n",
       "<!-- &#45;2107783309036646770&#45;&gt;5685177216408960542 -->\n",
       "<g id=\"edge7\" class=\"edge\">\n",
       "<title>&#45;2107783309036646770&#45;&gt;5685177216408960542</title>\n",
       "<path fill=\"none\" stroke=\"black\" d=\"M758,-612.3C758,-620.02 758,-629.29 758,-637.89\"/>\n",
       "<polygon fill=\"black\" stroke=\"black\" points=\"754.5,-637.9 758,-647.9 761.5,-637.9 754.5,-637.9\"/>\n",
       "</g>\n",
       "<!-- &#45;3997129500332776031 -->\n",
       "<g id=\"node27\" class=\"node\">\n",
       "<title>&#45;3997129500332776031</title>\n",
       "<polygon fill=\"none\" stroke=\"black\" points=\"1226.5,-684 927.5,-684 927.5,-648 1226.5,-648 1226.5,-684\"/>\n",
       "<text text-anchor=\"middle\" x=\"1077\" y=\"-661\" font-family=\"Helvetica,sans-Serif\" font-size=\"20.00\">Projection(Loc, fare_amount)</text>\n",
       "</g>\n",
       "<!-- &#45;2107783309036646770&#45;&gt;&#45;3997129500332776031 -->\n",
       "<g id=\"edge32\" class=\"edge\">\n",
       "<title>&#45;2107783309036646770&#45;&gt;&#45;3997129500332776031</title>\n",
       "<path fill=\"none\" stroke=\"black\" d=\"M835.63,-612.03C882.13,-622.24 941.36,-635.24 989.51,-645.8\"/>\n",
       "<polygon fill=\"black\" stroke=\"black\" points=\"988.78,-649.23 999.3,-647.95 990.28,-642.39 988.78,-649.23\"/>\n",
       "</g>\n",
       "<!-- &#45;7519026314853954732 -->\n",
       "<g id=\"node7\" class=\"node\">\n",
       "<title>&#45;7519026314853954732</title>\n",
       "<polygon fill=\"none\" stroke=\"black\" points=\"796,-540 588,-540 588,-504 796,-504 796,-540\"/>\n",
       "<text text-anchor=\"middle\" x=\"692\" y=\"-517\" font-family=\"Helvetica,sans-Serif\" font-size=\"20.00\">And(And, Between)</text>\n",
       "</g>\n",
       "<!-- &#45;7519026314853954732&#45;&gt;&#45;2107783309036646770 -->\n",
       "<g id=\"edge9\" class=\"edge\">\n",
       "<title>&#45;7519026314853954732&#45;&gt;&#45;2107783309036646770</title>\n",
       "<path fill=\"none\" stroke=\"black\" d=\"M708.31,-540.3C716.31,-548.78 726.07,-559.14 734.82,-568.42\"/>\n",
       "<polygon fill=\"black\" stroke=\"black\" points=\"732.47,-571.02 741.87,-575.9 737.56,-566.22 732.47,-571.02\"/>\n",
       "</g>\n",
       "<!-- 4256637050135022121 -->\n",
       "<g id=\"node8\" class=\"node\">\n",
       "<title>4256637050135022121</title>\n",
       "<polygon fill=\"none\" stroke=\"black\" points=\"529.5,-468 314.5,-468 314.5,-432 529.5,-432 529.5,-468\"/>\n",
       "<text text-anchor=\"middle\" x=\"422\" y=\"-445\" font-family=\"Helvetica,sans-Serif\" font-size=\"20.00\">Between(Projection)</text>\n",
       "</g>\n",
       "<!-- 4256637050135022121&#45;&gt;&#45;7519026314853954732 -->\n",
       "<g id=\"edge11\" class=\"edge\">\n",
       "<title>4256637050135022121&#45;&gt;&#45;7519026314853954732</title>\n",
       "<path fill=\"none\" stroke=\"black\" d=\"M487.7,-468.03C526.5,-478.09 575.76,-490.86 616.19,-501.35\"/>\n",
       "<polygon fill=\"black\" stroke=\"black\" points=\"615.44,-504.77 626,-503.89 617.2,-497.99 615.44,-504.77\"/>\n",
       "</g>\n",
       "<!-- 6530535114686465623 -->\n",
       "<g id=\"node9\" class=\"node\">\n",
       "<title>6530535114686465623</title>\n",
       "<polygon fill=\"none\" stroke=\"black\" points=\"384,-252 0,-252 0,-216 384,-216 384,-252\"/>\n",
       "<text text-anchor=\"middle\" x=\"192\" y=\"-229\" font-family=\"Helvetica,sans-Serif\" font-size=\"20.00\">Projection(Concat, dropoff_longitude)</text>\n",
       "</g>\n",
       "<!-- 6530535114686465623&#45;&gt;4256637050135022121 -->\n",
       "<g id=\"edge12\" class=\"edge\">\n",
       "<title>6530535114686465623&#45;&gt;4256637050135022121</title>\n",
       "<path fill=\"none\" stroke=\"black\" d=\"M210.43,-252.15C251.23,-290.11 349.24,-381.3 396.14,-424.94\"/>\n",
       "<polygon fill=\"black\" stroke=\"black\" points=\"393.77,-427.52 403.48,-431.77 398.54,-422.39 393.77,-427.52\"/>\n",
       "</g>\n",
       "<!-- &#45;7260641074868821286 -->\n",
       "<g id=\"node10\" class=\"node\">\n",
       "<title>&#45;7260641074868821286</title>\n",
       "<polygon fill=\"none\" stroke=\"black\" points=\"1380.5,-180 571.5,-180 571.5,-144 1380.5,-144 1380.5,-180\"/>\n",
       "<text text-anchor=\"middle\" x=\"976\" y=\"-157\" font-family=\"Helvetica,sans-Serif\" font-size=\"20.00\">Concat(ArrowStringConversion, ArrowStringConversion, ArrowStringConversion)</text>\n",
       "</g>\n",
       "<!-- &#45;7260641074868821286&#45;&gt;6530535114686465623 -->\n",
       "<g id=\"edge13\" class=\"edge\">\n",
       "<title>&#45;7260641074868821286&#45;&gt;6530535114686465623</title>\n",
       "<path fill=\"none\" stroke=\"black\" d=\"M785.46,-180.01C666.55,-190.63 513.66,-204.28 392.85,-215.07\"/>\n",
       "<polygon fill=\"black\" stroke=\"black\" points=\"392.39,-211.59 382.74,-215.97 393.01,-218.57 392.39,-211.59\"/>\n",
       "</g>\n",
       "<!-- 910157361974859175 -->\n",
       "<g id=\"node19\" class=\"node\">\n",
       "<title>910157361974859175</title>\n",
       "<polygon fill=\"none\" stroke=\"black\" points=\"768,-252 402,-252 402,-216 768,-216 768,-252\"/>\n",
       "<text text-anchor=\"middle\" x=\"585\" y=\"-229\" font-family=\"Helvetica,sans-Serif\" font-size=\"20.00\">Projection(Concat, dropoff_latitude)</text>\n",
       "</g>\n",
       "<!-- &#45;7260641074868821286&#45;&gt;910157361974859175 -->\n",
       "<g id=\"edge23\" class=\"edge\">\n",
       "<title>&#45;7260641074868821286&#45;&gt;910157361974859175</title>\n",
       "<path fill=\"none\" stroke=\"black\" d=\"M880.85,-180.03C823.26,-190.34 749.73,-203.51 690.39,-214.13\"/>\n",
       "<polygon fill=\"black\" stroke=\"black\" points=\"689.46,-210.74 680.24,-215.95 690.7,-217.63 689.46,-210.74\"/>\n",
       "</g>\n",
       "<!-- &#45;1972034141925235598 -->\n",
       "<g id=\"node22\" class=\"node\">\n",
       "<title>&#45;1972034141925235598</title>\n",
       "<polygon fill=\"none\" stroke=\"black\" points=\"1166,-252 786,-252 786,-216 1166,-216 1166,-252\"/>\n",
       "<text text-anchor=\"middle\" x=\"976\" y=\"-229\" font-family=\"Helvetica,sans-Serif\" font-size=\"20.00\">Projection(Concat, pickup_longitude)</text>\n",
       "</g>\n",
       "<!-- &#45;7260641074868821286&#45;&gt;&#45;1972034141925235598 -->\n",
       "<g id=\"edge27\" class=\"edge\">\n",
       "<title>&#45;7260641074868821286&#45;&gt;&#45;1972034141925235598</title>\n",
       "<path fill=\"none\" stroke=\"black\" d=\"M976,-180.3C976,-188.02 976,-197.29 976,-205.89\"/>\n",
       "<polygon fill=\"black\" stroke=\"black\" points=\"972.5,-205.9 976,-215.9 979.5,-205.9 972.5,-205.9\"/>\n",
       "</g>\n",
       "<!-- &#45;1396299225442193768 -->\n",
       "<g id=\"node24\" class=\"node\">\n",
       "<title>&#45;1396299225442193768</title>\n",
       "<polygon fill=\"none\" stroke=\"black\" points=\"1546,-252 1184,-252 1184,-216 1546,-216 1546,-252\"/>\n",
       "<text text-anchor=\"middle\" x=\"1365\" y=\"-229\" font-family=\"Helvetica,sans-Serif\" font-size=\"20.00\">Projection(Concat, pickup_latitude)</text>\n",
       "</g>\n",
       "<!-- &#45;7260641074868821286&#45;&gt;&#45;1396299225442193768 -->\n",
       "<g id=\"edge29\" class=\"edge\">\n",
       "<title>&#45;7260641074868821286&#45;&gt;&#45;1396299225442193768</title>\n",
       "<path fill=\"none\" stroke=\"black\" d=\"M1070.66,-180.03C1127.96,-190.34 1201.11,-203.51 1260.15,-214.13\"/>\n",
       "<polygon fill=\"black\" stroke=\"black\" points=\"1259.79,-217.62 1270.25,-215.95 1261.03,-210.73 1259.79,-217.62\"/>\n",
       "</g>\n",
       "<!-- &#45;6795106275232622142 -->\n",
       "<g id=\"node25\" class=\"node\">\n",
       "<title>&#45;6795106275232622142</title>\n",
       "<polygon fill=\"none\" stroke=\"black\" points=\"2232.5,-396 983.5,-396 983.5,-360 2232.5,-360 2232.5,-396\"/>\n",
       "<text text-anchor=\"middle\" x=\"1608\" y=\"-373\" font-family=\"Helvetica,sans-Serif\" font-size=\"20.00\">Projection(Concat, [&#39;trip_distance&#39;, &#39;pickup_longitude&#39;, &#39;pickup_latitude&#39;, &#39;dropoff_longitude&#39;, &#39;dropoff_latitude&#39;, &#39;fare_amount&#39;])</text>\n",
       "</g>\n",
       "<!-- &#45;7260641074868821286&#45;&gt;&#45;6795106275232622142 -->\n",
       "<g id=\"edge30\" class=\"edge\">\n",
       "<title>&#45;7260641074868821286&#45;&gt;&#45;6795106275232622142</title>\n",
       "<path fill=\"none\" stroke=\"black\" d=\"M1329.83,-180.01C1438.38,-188.25 1534.81,-199.94 1555,-216 1595.77,-248.43 1605.5,-313 1607.62,-349.75\"/>\n",
       "<polygon fill=\"black\" stroke=\"black\" points=\"1604.12,-349.92 1608.05,-359.76 1611.12,-349.62 1604.12,-349.92\"/>\n",
       "</g>\n",
       "<!-- 7534563251420490530 -->\n",
       "<g id=\"node11\" class=\"node\">\n",
       "<title>7534563251420490530</title>\n",
       "<polygon fill=\"none\" stroke=\"black\" points=\"728,-108 268,-108 268,-72 728,-72 728,-108\"/>\n",
       "<text text-anchor=\"middle\" x=\"498\" y=\"-85\" font-family=\"Helvetica,sans-Serif\" font-size=\"20.00\">ArrowStringConversion(FromMapProjectable)</text>\n",
       "</g>\n",
       "<!-- 7534563251420490530&#45;&gt;&#45;7260641074868821286 -->\n",
       "<g id=\"edge14\" class=\"edge\">\n",
       "<title>7534563251420490530&#45;&gt;&#45;7260641074868821286</title>\n",
       "<path fill=\"none\" stroke=\"black\" d=\"M614.32,-108.03C685.45,-118.45 776.47,-131.78 849.41,-142.46\"/>\n",
       "<polygon fill=\"black\" stroke=\"black\" points=\"849.17,-145.96 859.57,-143.95 850.19,-139.04 849.17,-145.96\"/>\n",
       "</g>\n",
       "<!-- 7725999346178993880 -->\n",
       "<g id=\"node12\" class=\"node\">\n",
       "<title>7725999346178993880</title>\n",
       "<polygon fill=\"none\" stroke=\"black\" points=\"606.5,-36 389.5,-36 389.5,0 606.5,0 606.5,-36\"/>\n",
       "<text text-anchor=\"middle\" x=\"498\" y=\"-13\" font-family=\"Helvetica,sans-Serif\" font-size=\"20.00\">FromMapProjectable</text>\n",
       "</g>\n",
       "<!-- 7725999346178993880&#45;&gt;7534563251420490530 -->\n",
       "<g id=\"edge17\" class=\"edge\">\n",
       "<title>7725999346178993880&#45;&gt;7534563251420490530</title>\n",
       "<path fill=\"none\" stroke=\"black\" d=\"M498,-36.3C498,-44.02 498,-53.29 498,-61.89\"/>\n",
       "<polygon fill=\"black\" stroke=\"black\" points=\"494.5,-61.9 498,-71.9 501.5,-61.9 494.5,-61.9\"/>\n",
       "</g>\n",
       "<!-- 6241122816872933964 -->\n",
       "<g id=\"node13\" class=\"node\">\n",
       "<title>6241122816872933964</title>\n",
       "<polygon fill=\"none\" stroke=\"black\" points=\"1206,-108 746,-108 746,-72 1206,-72 1206,-108\"/>\n",
       "<text text-anchor=\"middle\" x=\"976\" y=\"-85\" font-family=\"Helvetica,sans-Serif\" font-size=\"20.00\">ArrowStringConversion(FromMapProjectable)</text>\n",
       "</g>\n",
       "<!-- 6241122816872933964&#45;&gt;&#45;7260641074868821286 -->\n",
       "<g id=\"edge15\" class=\"edge\">\n",
       "<title>6241122816872933964&#45;&gt;&#45;7260641074868821286</title>\n",
       "<path fill=\"none\" stroke=\"black\" d=\"M976,-108.3C976,-116.02 976,-125.29 976,-133.89\"/>\n",
       "<polygon fill=\"black\" stroke=\"black\" points=\"972.5,-133.9 976,-143.9 979.5,-133.9 972.5,-133.9\"/>\n",
       "</g>\n",
       "<!-- 8537616093102306074 -->\n",
       "<g id=\"node14\" class=\"node\">\n",
       "<title>8537616093102306074</title>\n",
       "<polygon fill=\"none\" stroke=\"black\" points=\"1084.5,-36 867.5,-36 867.5,0 1084.5,0 1084.5,-36\"/>\n",
       "<text text-anchor=\"middle\" x=\"976\" y=\"-13\" font-family=\"Helvetica,sans-Serif\" font-size=\"20.00\">FromMapProjectable</text>\n",
       "</g>\n",
       "<!-- 8537616093102306074&#45;&gt;6241122816872933964 -->\n",
       "<g id=\"edge18\" class=\"edge\">\n",
       "<title>8537616093102306074&#45;&gt;6241122816872933964</title>\n",
       "<path fill=\"none\" stroke=\"black\" d=\"M976,-36.3C976,-44.02 976,-53.29 976,-61.89\"/>\n",
       "<polygon fill=\"black\" stroke=\"black\" points=\"972.5,-61.9 976,-71.9 979.5,-61.9 972.5,-61.9\"/>\n",
       "</g>\n",
       "<!-- 9115968620845577791 -->\n",
       "<g id=\"node15\" class=\"node\">\n",
       "<title>9115968620845577791</title>\n",
       "<polygon fill=\"none\" stroke=\"black\" points=\"1684,-108 1224,-108 1224,-72 1684,-72 1684,-108\"/>\n",
       "<text text-anchor=\"middle\" x=\"1454\" y=\"-85\" font-family=\"Helvetica,sans-Serif\" font-size=\"20.00\">ArrowStringConversion(FromMapProjectable)</text>\n",
       "</g>\n",
       "<!-- 9115968620845577791&#45;&gt;&#45;7260641074868821286 -->\n",
       "<g id=\"edge16\" class=\"edge\">\n",
       "<title>9115968620845577791&#45;&gt;&#45;7260641074868821286</title>\n",
       "<path fill=\"none\" stroke=\"black\" d=\"M1337.68,-108.03C1266.55,-118.45 1175.53,-131.78 1102.59,-142.46\"/>\n",
       "<polygon fill=\"black\" stroke=\"black\" points=\"1101.81,-139.04 1092.43,-143.95 1102.83,-145.96 1101.81,-139.04\"/>\n",
       "</g>\n",
       "<!-- &#45;1635407229160294780 -->\n",
       "<g id=\"node16\" class=\"node\">\n",
       "<title>&#45;1635407229160294780</title>\n",
       "<polygon fill=\"none\" stroke=\"black\" points=\"1562.5,-36 1345.5,-36 1345.5,0 1562.5,0 1562.5,-36\"/>\n",
       "<text text-anchor=\"middle\" x=\"1454\" y=\"-13\" font-family=\"Helvetica,sans-Serif\" font-size=\"20.00\">FromMapProjectable</text>\n",
       "</g>\n",
       "<!-- &#45;1635407229160294780&#45;&gt;9115968620845577791 -->\n",
       "<g id=\"edge19\" class=\"edge\">\n",
       "<title>&#45;1635407229160294780&#45;&gt;9115968620845577791</title>\n",
       "<path fill=\"none\" stroke=\"black\" d=\"M1454,-36.3C1454,-44.02 1454,-53.29 1454,-61.89\"/>\n",
       "<polygon fill=\"black\" stroke=\"black\" points=\"1450.5,-61.9 1454,-71.9 1457.5,-61.9 1450.5,-61.9\"/>\n",
       "</g>\n",
       "<!-- &#45;115284519536919736 -->\n",
       "<g id=\"node17\" class=\"node\">\n",
       "<title>&#45;115284519536919736</title>\n",
       "<polygon fill=\"none\" stroke=\"black\" points=\"796,-468 588,-468 588,-432 796,-432 796,-468\"/>\n",
       "<text text-anchor=\"middle\" x=\"692\" y=\"-445\" font-family=\"Helvetica,sans-Serif\" font-size=\"20.00\">And(And, Between)</text>\n",
       "</g>\n",
       "<!-- &#45;115284519536919736&#45;&gt;&#45;7519026314853954732 -->\n",
       "<g id=\"edge10\" class=\"edge\">\n",
       "<title>&#45;115284519536919736&#45;&gt;&#45;7519026314853954732</title>\n",
       "<path fill=\"none\" stroke=\"black\" d=\"M692,-468.3C692,-476.02 692,-485.29 692,-493.89\"/>\n",
       "<polygon fill=\"black\" stroke=\"black\" points=\"688.5,-493.9 692,-503.9 695.5,-493.9 688.5,-493.9\"/>\n",
       "</g>\n",
       "<!-- &#45;4370148581295560957 -->\n",
       "<g id=\"node18\" class=\"node\">\n",
       "<title>&#45;4370148581295560957</title>\n",
       "<polygon fill=\"none\" stroke=\"black\" points=\"692.5,-396 477.5,-396 477.5,-360 692.5,-360 692.5,-396\"/>\n",
       "<text text-anchor=\"middle\" x=\"585\" y=\"-373\" font-family=\"Helvetica,sans-Serif\" font-size=\"20.00\">Between(Projection)</text>\n",
       "</g>\n",
       "<!-- &#45;4370148581295560957&#45;&gt;&#45;115284519536919736 -->\n",
       "<g id=\"edge21\" class=\"edge\">\n",
       "<title>&#45;4370148581295560957&#45;&gt;&#45;115284519536919736</title>\n",
       "<path fill=\"none\" stroke=\"black\" d=\"M611.18,-396.12C625.04,-405.19 642.24,-416.45 657.21,-426.24\"/>\n",
       "<polygon fill=\"black\" stroke=\"black\" points=\"655.44,-429.26 665.72,-431.81 659.27,-423.41 655.44,-429.26\"/>\n",
       "</g>\n",
       "<!-- 910157361974859175&#45;&gt;&#45;4370148581295560957 -->\n",
       "<g id=\"edge22\" class=\"edge\">\n",
       "<title>910157361974859175&#45;&gt;&#45;4370148581295560957</title>\n",
       "<path fill=\"none\" stroke=\"black\" d=\"M585,-252.13C585,-276.33 585,-320.79 585,-349.61\"/>\n",
       "<polygon fill=\"black\" stroke=\"black\" points=\"581.5,-349.81 585,-359.81 588.5,-349.81 581.5,-349.81\"/>\n",
       "</g>\n",
       "<!-- 2534691426701588489 -->\n",
       "<g id=\"node20\" class=\"node\">\n",
       "<title>2534691426701588489</title>\n",
       "<polygon fill=\"none\" stroke=\"black\" points=\"965.5,-396 710.5,-396 710.5,-360 965.5,-360 965.5,-396\"/>\n",
       "<text text-anchor=\"middle\" x=\"838\" y=\"-373\" font-family=\"Helvetica,sans-Serif\" font-size=\"20.00\">And(Between, Between)</text>\n",
       "</g>\n",
       "<!-- 2534691426701588489&#45;&gt;&#45;115284519536919736 -->\n",
       "<g id=\"edge20\" class=\"edge\">\n",
       "<title>2534691426701588489&#45;&gt;&#45;115284519536919736</title>\n",
       "<path fill=\"none\" stroke=\"black\" d=\"M802.28,-396.12C782.5,-405.61 757.73,-417.49 736.67,-427.58\"/>\n",
       "<polygon fill=\"black\" stroke=\"black\" points=\"735.1,-424.45 727.6,-431.93 738.13,-430.76 735.1,-424.45\"/>\n",
       "</g>\n",
       "<!-- &#45;4004903325328003761 -->\n",
       "<g id=\"node21\" class=\"node\">\n",
       "<title>&#45;4004903325328003761</title>\n",
       "<polygon fill=\"none\" stroke=\"black\" points=\"1014.5,-324 799.5,-324 799.5,-288 1014.5,-288 1014.5,-324\"/>\n",
       "<text text-anchor=\"middle\" x=\"907\" y=\"-301\" font-family=\"Helvetica,sans-Serif\" font-size=\"20.00\">Between(Projection)</text>\n",
       "</g>\n",
       "<!-- &#45;4004903325328003761&#45;&gt;2534691426701588489 -->\n",
       "<g id=\"edge25\" class=\"edge\">\n",
       "<title>&#45;4004903325328003761&#45;&gt;2534691426701588489</title>\n",
       "<path fill=\"none\" stroke=\"black\" d=\"M889.94,-324.3C881.5,-332.86 871.18,-343.34 861.96,-352.7\"/>\n",
       "<polygon fill=\"black\" stroke=\"black\" points=\"859.39,-350.32 854.86,-359.9 864.37,-355.23 859.39,-350.32\"/>\n",
       "</g>\n",
       "<!-- &#45;1972034141925235598&#45;&gt;&#45;4004903325328003761 -->\n",
       "<g id=\"edge26\" class=\"edge\">\n",
       "<title>&#45;1972034141925235598&#45;&gt;&#45;4004903325328003761</title>\n",
       "<path fill=\"none\" stroke=\"black\" d=\"M958.94,-252.3C950.5,-260.86 940.18,-271.34 930.96,-280.7\"/>\n",
       "<polygon fill=\"black\" stroke=\"black\" points=\"928.39,-278.32 923.86,-287.9 933.37,-283.23 928.39,-278.32\"/>\n",
       "</g>\n",
       "<!-- 658774516805089022 -->\n",
       "<g id=\"node23\" class=\"node\">\n",
       "<title>658774516805089022</title>\n",
       "<polygon fill=\"none\" stroke=\"black\" points=\"1325.5,-324 1110.5,-324 1110.5,-288 1325.5,-288 1325.5,-324\"/>\n",
       "<text text-anchor=\"middle\" x=\"1218\" y=\"-301\" font-family=\"Helvetica,sans-Serif\" font-size=\"20.00\">Between(Projection)</text>\n",
       "</g>\n",
       "<!-- 658774516805089022&#45;&gt;2534691426701588489 -->\n",
       "<g id=\"edge24\" class=\"edge\">\n",
       "<title>658774516805089022&#45;&gt;2534691426701588489</title>\n",
       "<path fill=\"none\" stroke=\"black\" d=\"M1125.53,-324.03C1069.56,-334.34 998.1,-347.51 940.42,-358.13\"/>\n",
       "<polygon fill=\"black\" stroke=\"black\" points=\"939.76,-354.7 930.56,-359.95 941.03,-361.58 939.76,-354.7\"/>\n",
       "</g>\n",
       "<!-- &#45;1396299225442193768&#45;&gt;658774516805089022 -->\n",
       "<g id=\"edge28\" class=\"edge\">\n",
       "<title>&#45;1396299225442193768&#45;&gt;658774516805089022</title>\n",
       "<path fill=\"none\" stroke=\"black\" d=\"M1329.04,-252.12C1309.12,-261.61 1284.18,-273.49 1262.98,-283.58\"/>\n",
       "<polygon fill=\"black\" stroke=\"black\" points=\"1261.37,-280.47 1253.84,-287.93 1264.38,-286.79 1261.37,-280.47\"/>\n",
       "</g>\n",
       "<!-- &#45;6795106275232622142&#45;&gt;&#45;2107783309036646770 -->\n",
       "<g id=\"edge8\" class=\"edge\">\n",
       "<title>&#45;6795106275232622142&#45;&gt;&#45;2107783309036646770</title>\n",
       "<path fill=\"none\" stroke=\"black\" d=\"M1540.24,-396.06C1384.31,-435.32 1000.85,-531.86 835.72,-573.43\"/>\n",
       "<polygon fill=\"black\" stroke=\"black\" points=\"834.48,-570.14 825.64,-575.97 836.19,-576.92 834.48,-570.14\"/>\n",
       "</g>\n",
       "<!-- &#45;6435298720162461325 -->\n",
       "<g id=\"node26\" class=\"node\">\n",
       "<title>&#45;6435298720162461325</title>\n",
       "<polygon fill=\"none\" stroke=\"black\" points=\"1141.5,-756 926.5,-756 926.5,-720 1141.5,-720 1141.5,-756\"/>\n",
       "<text text-anchor=\"middle\" x=\"1034\" y=\"-733\" font-family=\"Helvetica,sans-Serif\" font-size=\"20.00\">Between(Projection)</text>\n",
       "</g>\n",
       "<!-- &#45;6435298720162461325&#45;&gt;5355069193766568686 -->\n",
       "<g id=\"edge4\" class=\"edge\">\n",
       "<title>&#45;6435298720162461325&#45;&gt;5355069193766568686</title>\n",
       "<path fill=\"none\" stroke=\"black\" d=\"M966.84,-756.03C927.1,-766.11 876.61,-778.92 835.23,-789.41\"/>\n",
       "<polygon fill=\"black\" stroke=\"black\" points=\"834.3,-786.04 825.47,-791.89 836.02,-792.82 834.3,-786.04\"/>\n",
       "</g>\n",
       "<!-- &#45;3997129500332776031&#45;&gt;&#45;6435298720162461325 -->\n",
       "<g id=\"edge31\" class=\"edge\">\n",
       "<title>&#45;3997129500332776031&#45;&gt;&#45;6435298720162461325</title>\n",
       "<path fill=\"none\" stroke=\"black\" d=\"M1066.37,-684.3C1061.37,-692.44 1055.31,-702.31 1049.79,-711.3\"/>\n",
       "<polygon fill=\"black\" stroke=\"black\" points=\"1046.76,-709.54 1044.51,-719.9 1052.72,-713.21 1046.76,-709.54\"/>\n",
       "</g>\n",
       "</g>\n",
       "</svg>\n"
      ],
      "text/plain": [
       "<graphviz.graphs.Digraph at 0x7c7d7fec8ad0>"
      ]
     },
     "execution_count": 19,
     "metadata": {},
     "output_type": "execute_result"
    }
   ],
   "source": [
    "pickup_coord_dataset.visualize()"
   ]
  },
  {
   "cell_type": "code",
   "execution_count": 20,
   "id": "ef37b912-f0de-4807-8c83-e1acb4f7c667",
   "metadata": {},
   "outputs": [
    {
     "name": "stdout",
     "output_type": "stream",
     "text": [
      "Shape of the dataset is  (33234199, 2)\n"
     ]
    }
   ],
   "source": [
    "# form the dataset\n",
    "\n",
    "pickup_coord_dataset = df_final.loc[:,['pickup_latitude','pickup_longitude']].compute()\n",
    "\n",
    "print(\"Shape of the dataset is \", pickup_coord_dataset.shape)"
   ]
  },
  {
   "cell_type": "code",
   "execution_count": 21,
   "id": "d7659753-ceec-41a7-a936-dbe1536b0d9a",
   "metadata": {},
   "outputs": [
    {
     "data": {
      "text/html": [
       "<div>\n",
       "<style scoped>\n",
       "    .dataframe tbody tr th:only-of-type {\n",
       "        vertical-align: middle;\n",
       "    }\n",
       "\n",
       "    .dataframe tbody tr th {\n",
       "        vertical-align: top;\n",
       "    }\n",
       "\n",
       "    .dataframe thead th {\n",
       "        text-align: right;\n",
       "    }\n",
       "</style>\n",
       "<table border=\"1\" class=\"dataframe\">\n",
       "  <thead>\n",
       "    <tr style=\"text-align: right;\">\n",
       "      <th></th>\n",
       "      <th>pickup_latitude</th>\n",
       "      <th>pickup_longitude</th>\n",
       "    </tr>\n",
       "  </thead>\n",
       "  <tbody>\n",
       "    <tr>\n",
       "      <th>0</th>\n",
       "      <td>40.734695</td>\n",
       "      <td>-73.990372</td>\n",
       "    </tr>\n",
       "    <tr>\n",
       "      <th>1</th>\n",
       "      <td>40.729912</td>\n",
       "      <td>-73.980782</td>\n",
       "    </tr>\n",
       "    <tr>\n",
       "      <th>2</th>\n",
       "      <td>40.679565</td>\n",
       "      <td>-73.984550</td>\n",
       "    </tr>\n",
       "    <tr>\n",
       "      <th>3</th>\n",
       "      <td>40.718990</td>\n",
       "      <td>-73.993469</td>\n",
       "    </tr>\n",
       "    <tr>\n",
       "      <th>4</th>\n",
       "      <td>40.781330</td>\n",
       "      <td>-73.960625</td>\n",
       "    </tr>\n",
       "    <tr>\n",
       "      <th>...</th>\n",
       "      <td>...</td>\n",
       "      <td>...</td>\n",
       "    </tr>\n",
       "    <tr>\n",
       "      <th>420269</th>\n",
       "      <td>40.644451</td>\n",
       "      <td>-73.790565</td>\n",
       "    </tr>\n",
       "    <tr>\n",
       "      <th>420270</th>\n",
       "      <td>40.641483</td>\n",
       "      <td>-73.788055</td>\n",
       "    </tr>\n",
       "    <tr>\n",
       "      <th>420271</th>\n",
       "      <td>40.646736</td>\n",
       "      <td>-73.789154</td>\n",
       "    </tr>\n",
       "    <tr>\n",
       "      <th>420273</th>\n",
       "      <td>40.774471</td>\n",
       "      <td>-73.977356</td>\n",
       "    </tr>\n",
       "    <tr>\n",
       "      <th>420276</th>\n",
       "      <td>40.645096</td>\n",
       "      <td>-73.798485</td>\n",
       "    </tr>\n",
       "  </tbody>\n",
       "</table>\n",
       "<p>33234199 rows × 2 columns</p>\n",
       "</div>"
      ],
      "text/plain": [
       "        pickup_latitude  pickup_longitude\n",
       "0             40.734695        -73.990372\n",
       "1             40.729912        -73.980782\n",
       "2             40.679565        -73.984550\n",
       "3             40.718990        -73.993469\n",
       "4             40.781330        -73.960625\n",
       "...                 ...               ...\n",
       "420269        40.644451        -73.790565\n",
       "420270        40.641483        -73.788055\n",
       "420271        40.646736        -73.789154\n",
       "420273        40.774471        -73.977356\n",
       "420276        40.645096        -73.798485\n",
       "\n",
       "[33234199 rows x 2 columns]"
      ]
     },
     "execution_count": 21,
     "metadata": {},
     "output_type": "execute_result"
    }
   ],
   "source": [
    "pickup_coord_dataset"
   ]
  },
  {
   "cell_type": "code",
   "execution_count": 22,
   "id": "0ed8f1b0-38cb-4a5a-9cff-647b38ee879f",
   "metadata": {},
   "outputs": [],
   "source": [
    "# save the dataset\n",
    "\n",
    "pickup_coord_dataset.to_csv(save_path, index=False)"
   ]
  },
  {
   "cell_type": "code",
   "execution_count": null,
   "id": "0eb1d676-f674-4eb6-8357-76a9eb098186",
   "metadata": {},
   "outputs": [],
   "source": []
  }
 ],
 "metadata": {
  "kernelspec": {
   "display_name": ".venv",
   "language": "python",
   "name": "python3"
  },
  "language_info": {
   "codemirror_mode": {
    "name": "ipython",
    "version": 3
   },
   "file_extension": ".py",
   "mimetype": "text/x-python",
   "name": "python",
   "nbconvert_exporter": "python",
   "pygments_lexer": "ipython3",
   "version": "3.12.1"
  }
 },
 "nbformat": 4,
 "nbformat_minor": 5
}
