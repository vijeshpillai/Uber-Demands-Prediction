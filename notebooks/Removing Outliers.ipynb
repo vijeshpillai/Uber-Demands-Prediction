{
 "cells": [
  {
   "cell_type": "markdown",
   "id": "77b65094-4d53-4c8b-8f1c-73830065af51",
   "metadata": {},
   "source": [
    "# Load the packages"
   ]
  },
  {
   "cell_type": "code",
   "execution_count": 1,
   "id": "f95b25ff-9fd4-4084-8851-3ec9ae5709eb",
   "metadata": {},
   "outputs": [],
   "source": [
    "import pandas as pd\n",
    "import numpy as np\n",
    "import matplotlib.pyplot as plt\n",
    "import seaborn as sns\n",
    "import dask.dataframe as dd"
   ]
  },
  {
   "cell_type": "markdown",
   "id": "22d0702b-7bee-4ab0-91b0-1620ccc7d5aa",
   "metadata": {},
   "source": [
    "# Import the Data"
   ]
  },
  {
   "cell_type": "code",
   "execution_count": 2,
   "id": "df973386-fe47-4d53-95f6-229606a9938d",
   "metadata": {},
   "outputs": [],
   "source": [
    "# paths for the three dfs\n",
    "\n",
    "df_jan_path = \"../data/raw/yellow_tripdata_2016-01.csv\"\n",
    "df_feb_path = \"../data/raw/yellow_tripdata_2016-02.csv\"\n",
    "df_mar_path = \"../data/raw/yellow_tripdata_2016-03.csv\"\n",
    "\n",
    "# load the dataframes\n",
    "\n",
    "df_jan = dd.read_csv(df_jan_path, assume_missing=True, usecols= ['trip_distance', 'pickup_longitude',\n",
    "       'pickup_latitude','dropoff_longitude', 'dropoff_latitude', 'fare_amount'])\n",
    "df_feb = dd.read_csv(df_feb_path, assume_missing=True, usecols= ['trip_distance', 'pickup_longitude',\n",
    "       'pickup_latitude','dropoff_longitude', 'dropoff_latitude', 'fare_amount'])\n",
    "df_mar = dd.read_csv(df_mar_path, assume_missing=True, usecols= ['trip_distance', 'pickup_longitude',\n",
    "       'pickup_latitude','dropoff_longitude', 'dropoff_latitude', 'fare_amount'])"
   ]
  },
  {
   "cell_type": "code",
   "execution_count": 3,
   "id": "06686106-7067-4b28-8e97-dade2945f76d",
   "metadata": {},
   "outputs": [
    {
     "data": {
      "text/html": [
       "<div><strong>Dask DataFrame Structure:</strong></div>\n",
       "<table border=\"1\" class=\"dataframe\">\n",
       "  <thead>\n",
       "    <tr style=\"text-align: right;\">\n",
       "      <th></th>\n",
       "      <th>trip_distance</th>\n",
       "      <th>pickup_longitude</th>\n",
       "      <th>pickup_latitude</th>\n",
       "      <th>dropoff_longitude</th>\n",
       "      <th>dropoff_latitude</th>\n",
       "      <th>fare_amount</th>\n",
       "    </tr>\n",
       "    <tr>\n",
       "      <th>npartitions=26</th>\n",
       "      <th></th>\n",
       "      <th></th>\n",
       "      <th></th>\n",
       "      <th></th>\n",
       "      <th></th>\n",
       "      <th></th>\n",
       "    </tr>\n",
       "  </thead>\n",
       "  <tbody>\n",
       "    <tr>\n",
       "      <th></th>\n",
       "      <td>float64</td>\n",
       "      <td>float64</td>\n",
       "      <td>float64</td>\n",
       "      <td>float64</td>\n",
       "      <td>float64</td>\n",
       "      <td>float64</td>\n",
       "    </tr>\n",
       "    <tr>\n",
       "      <th></th>\n",
       "      <td>...</td>\n",
       "      <td>...</td>\n",
       "      <td>...</td>\n",
       "      <td>...</td>\n",
       "      <td>...</td>\n",
       "      <td>...</td>\n",
       "    </tr>\n",
       "    <tr>\n",
       "      <th>...</th>\n",
       "      <td>...</td>\n",
       "      <td>...</td>\n",
       "      <td>...</td>\n",
       "      <td>...</td>\n",
       "      <td>...</td>\n",
       "      <td>...</td>\n",
       "    </tr>\n",
       "    <tr>\n",
       "      <th></th>\n",
       "      <td>...</td>\n",
       "      <td>...</td>\n",
       "      <td>...</td>\n",
       "      <td>...</td>\n",
       "      <td>...</td>\n",
       "      <td>...</td>\n",
       "    </tr>\n",
       "    <tr>\n",
       "      <th></th>\n",
       "      <td>...</td>\n",
       "      <td>...</td>\n",
       "      <td>...</td>\n",
       "      <td>...</td>\n",
       "      <td>...</td>\n",
       "      <td>...</td>\n",
       "    </tr>\n",
       "  </tbody>\n",
       "</table>\n",
       "<div>Dask Name: to_string_dtype, 2 expressions</div>"
      ],
      "text/plain": [
       "Dask DataFrame Structure:\n",
       "               trip_distance pickup_longitude pickup_latitude dropoff_longitude dropoff_latitude fare_amount\n",
       "npartitions=26                                                                                              \n",
       "                     float64          float64         float64           float64          float64     float64\n",
       "                         ...              ...             ...               ...              ...         ...\n",
       "...                      ...              ...             ...               ...              ...         ...\n",
       "                         ...              ...             ...               ...              ...         ...\n",
       "                         ...              ...             ...               ...              ...         ...\n",
       "Dask Name: to_string_dtype, 2 expressions\n",
       "Expr=ArrowStringConversion(frame=FromMapProjectable(f0fcbfc))"
      ]
     },
     "execution_count": 3,
     "metadata": {},
     "output_type": "execute_result"
    }
   ],
   "source": [
    "df_jan"
   ]
  },
  {
   "cell_type": "code",
   "execution_count": 4,
   "id": "24ffba8c-ba00-4d7d-a346-fd7c21ae39c2",
   "metadata": {},
   "outputs": [],
   "source": [
    "# concat the three dataframes as one\n",
    "\n",
    "df_final = dd.concat([df_jan, df_feb, df_mar], axis=0)"
   ]
  },
  {
   "cell_type": "markdown",
   "id": "ef3e25c8-6c2c-4631-8ade-4f79f6076277",
   "metadata": {},
   "source": [
    "### New york bounding box:\n",
    "min_latitude = 40.60  \n",
    "max_latitude = 40.85  \n",
    "min_longitude = -74.05  \n",
    "max_longitude = -73.70  "
   ]
  },
  {
   "cell_type": "code",
   "execution_count": 5,
   "id": "b91b7d9b-bd20-4af9-9172-4d7384b964bc",
   "metadata": {},
   "outputs": [],
   "source": [
    "# set the values of coordinates\n",
    "\n",
    "min_latitude = 40.60\n",
    "max_latitude = 40.85\n",
    "min_longitude = -74.05\n",
    "max_longitude = -73.70"
   ]
  },
  {
   "cell_type": "code",
   "execution_count": 6,
   "id": "11e61277-daf9-4f3b-b823-1c084a2a7d9a",
   "metadata": {},
   "outputs": [],
   "source": [
    "# fare amount column\n",
    "fare_amount = df_final[\"fare_amount\"].compute()\n",
    "\n",
    "# trip distance column\n",
    "trip_distance = df_final[\"trip_distance\"].compute()"
   ]
  },
  {
   "cell_type": "code",
   "execution_count": 7,
   "id": "5adb7965-38b4-4b67-9dc1-d96bfc710752",
   "metadata": {},
   "outputs": [
    {
     "data": {
      "text/plain": [
       "3.4499859"
      ]
     },
     "execution_count": 7,
     "metadata": {},
     "output_type": "execute_result"
    }
   ],
   "source": [
    "fare_amount.shape[0] / 10000000"
   ]
  },
  {
   "cell_type": "code",
   "execution_count": 8,
   "id": "436981aa-cb72-4911-8339-3e938e961a78",
   "metadata": {},
   "outputs": [
    {
     "data": {
      "text/plain": [
       "0.991        52.00\n",
       "0.992        52.00\n",
       "0.993        52.00\n",
       "0.994        52.00\n",
       "0.995        54.00\n",
       "0.996        58.50\n",
       "0.997        63.00\n",
       "0.998        69.00\n",
       "0.999        81.00\n",
       "1.000    429496.72\n",
       "Name: fare_amount, dtype: float64"
      ]
     },
     "execution_count": 8,
     "metadata": {},
     "output_type": "execute_result"
    }
   ],
   "source": [
    "# percentile values for fare amount\n",
    "\n",
    "percentile_values = np.arange(0.991,1.000, 0.001)\n",
    "percentile_values\n",
    "\n",
    "fare_amount.quantile(percentile_values)"
   ]
  },
  {
   "cell_type": "code",
   "execution_count": 9,
   "id": "e9f5df7e-5711-4947-a530-ec447cb39440",
   "metadata": {},
   "outputs": [
    {
     "name": "stdout",
     "output_type": "stream",
     "text": [
      "0.5\n",
      "81.0\n"
     ]
    }
   ],
   "source": [
    "max_fare_amount_val = fare_amount.quantile(percentile_values).iloc[-2].item()\n",
    "min_fare_amount_val = 0.50\n",
    "\n",
    "print(min_fare_amount_val)\n",
    "print(max_fare_amount_val)"
   ]
  },
  {
   "cell_type": "code",
   "execution_count": 10,
   "id": "507984a2-f827-4c09-91b4-466d3efba16a",
   "metadata": {},
   "outputs": [
    {
     "data": {
      "text/plain": [
       "0.991          18.80\n",
       "0.992          19.00\n",
       "0.993          19.30\n",
       "0.994          19.63\n",
       "0.995          20.04\n",
       "0.996          20.51\n",
       "0.997          21.10\n",
       "0.998          21.90\n",
       "0.999          24.43\n",
       "1.000    19072628.80\n",
       "Name: trip_distance, dtype: float64"
      ]
     },
     "execution_count": 10,
     "metadata": {},
     "output_type": "execute_result"
    }
   ],
   "source": [
    "trip_distance.quantile(percentile_values)"
   ]
  },
  {
   "cell_type": "code",
   "execution_count": 11,
   "id": "65612e2d-a8bd-44fb-a4cd-7725f82ccbb4",
   "metadata": {},
   "outputs": [
    {
     "name": "stdout",
     "output_type": "stream",
     "text": [
      "0.25\n",
      "24.43\n"
     ]
    }
   ],
   "source": [
    "# percentile values for trip_distance\n",
    "\n",
    "min_trip_distance_val = 0.25\n",
    "max_trip_distance_val = trip_distance.quantile(percentile_values).iloc[-2].item()\n",
    "\n",
    "print(min_trip_distance_val)\n",
    "print(max_trip_distance_val)"
   ]
  },
  {
   "cell_type": "markdown",
   "id": "8212f646-0220-45c8-9729-674c87c7571f",
   "metadata": {},
   "source": [
    "# Remove Outliers from the Data"
   ]
  },
  {
   "cell_type": "code",
   "execution_count": 12,
   "id": "5b4e00f8-2153-4bc9-9504-51e3ca344c5e",
   "metadata": {},
   "outputs": [],
   "source": [
    "# select data points within the given ranges\n",
    "\n",
    "df_final = df_final.loc[(df_final[\"pickup_latitude\"].between(min_latitude, max_latitude, inclusive=\"both\")) & \n",
    "(df_final[\"pickup_longitude\"].between(min_longitude, max_longitude, inclusive=\"both\")) & \n",
    "(df_final[\"dropoff_latitude\"].between(min_latitude, max_latitude, inclusive=\"both\")) & \n",
    "(df_final[\"dropoff_longitude\"].between(min_longitude, max_longitude, inclusive=\"both\")), :]"
   ]
  },
  {
   "cell_type": "code",
   "execution_count": 13,
   "id": "785e696c-839c-4738-b61b-00d1f7f59884",
   "metadata": {},
   "outputs": [],
   "source": [
    "df_final = df_final.loc[(df_final[\"fare_amount\"].between(min_fare_amount_val,max_fare_amount_val,inclusive=\"both\")) & \n",
    "(df_final[\"trip_distance\"].between(min_trip_distance_val,max_trip_distance_val,inclusive=\"both\"))]"
   ]
  },
  {
   "cell_type": "markdown",
   "id": "e7cdeea2-32d8-46d6-9e3e-07f8365f077d",
   "metadata": {},
   "source": [
    "## Location Based Columns"
   ]
  },
  {
   "cell_type": "code",
   "execution_count": 14,
   "id": "cb3cae4b-3fcc-4b9a-905b-7e3f340e04fa",
   "metadata": {},
   "outputs": [
    {
     "data": {
      "text/html": [
       "<div><strong>Dask DataFrame Structure:</strong></div>\n",
       "<table border=\"1\" class=\"dataframe\">\n",
       "  <thead>\n",
       "    <tr style=\"text-align: right;\">\n",
       "      <th></th>\n",
       "      <th>pickup_latitude</th>\n",
       "      <th>pickup_longitude</th>\n",
       "      <th>dropoff_latitude</th>\n",
       "      <th>dropoff_longitude</th>\n",
       "    </tr>\n",
       "    <tr>\n",
       "      <th>npartitions=82</th>\n",
       "      <th></th>\n",
       "      <th></th>\n",
       "      <th></th>\n",
       "      <th></th>\n",
       "    </tr>\n",
       "  </thead>\n",
       "  <tbody>\n",
       "    <tr>\n",
       "      <th></th>\n",
       "      <td>float64</td>\n",
       "      <td>float64</td>\n",
       "      <td>float64</td>\n",
       "      <td>float64</td>\n",
       "    </tr>\n",
       "    <tr>\n",
       "      <th></th>\n",
       "      <td>...</td>\n",
       "      <td>...</td>\n",
       "      <td>...</td>\n",
       "      <td>...</td>\n",
       "    </tr>\n",
       "    <tr>\n",
       "      <th>...</th>\n",
       "      <td>...</td>\n",
       "      <td>...</td>\n",
       "      <td>...</td>\n",
       "      <td>...</td>\n",
       "    </tr>\n",
       "    <tr>\n",
       "      <th></th>\n",
       "      <td>...</td>\n",
       "      <td>...</td>\n",
       "      <td>...</td>\n",
       "      <td>...</td>\n",
       "    </tr>\n",
       "    <tr>\n",
       "      <th></th>\n",
       "      <td>...</td>\n",
       "      <td>...</td>\n",
       "      <td>...</td>\n",
       "      <td>...</td>\n",
       "    </tr>\n",
       "  </tbody>\n",
       "</table>\n",
       "<div>Dask Name: getitem, 27 expressions</div>"
      ],
      "text/plain": [
       "Dask DataFrame Structure:\n",
       "               pickup_latitude pickup_longitude dropoff_latitude dropoff_longitude\n",
       "npartitions=82                                                                    \n",
       "                       float64          float64          float64           float64\n",
       "                           ...              ...              ...               ...\n",
       "...                        ...              ...              ...               ...\n",
       "                           ...              ...              ...               ...\n",
       "                           ...              ...              ...               ...\n",
       "Dask Name: getitem, 27 expressions\n",
       "Expr=(Loc(frame=Loc(frame=(Concat(frames=[ArrowStringConversion(frame=FromMapProjectable(f0fcbfc)), ArrowStringConversion(frame=FromMapProjectable(97d55d2)), ArrowStringConversion(frame=FromMapProjectable(ac15cc5))], ))[['trip_distance', 'pickup_longitude', 'pickup_latitude', 'dropoff_longitude', 'dropoff_latitude', 'fare_amount']], iindexer=Between(frame=(Concat(frames=[ArrowStringConversion(frame=FromMapProjectable(f0fcbfc)), ArrowStringConversion(frame=FromMapProjectable(97d55d2)), ArrowStringConversion(frame=FromMapProjectable(ac15cc5))], ))['pickup_latitude'], left=40.6, right=40.85) & Between(frame=(Concat(frames=[ArrowStringConversion(frame=FromMapProjectable(f0fcbfc)), ArrowStringConversion(frame=FromMapProjectable(97d55d2)), ArrowStringConversion(frame=FromMapProjectable(ac15cc5))], ))['pickup_longitude'], left=-74.05, right=-73.7) & Between(frame=(Concat(frames=[ArrowStringConversion(frame=FromMapProjectable(f0fcbfc)), ArrowStringConversion(frame=FromMapProjectable(97d55d2)), ArrowStringConversion(frame=FromMapProjectable(ac15cc5))], ))['dropoff_latitude'], left=40.6, right=40.85) & Between(frame=(Concat(frames=[ArrowStringConversion(frame=FromMapProjectable(f0fcbfc)), ArrowStringConversion(frame=FromMapProjectable(97d55d2)), ArrowStringConversion(frame=FromMapProjectable(ac15cc5))], ))['dropoff_longitude'], left=-74.05, right=-73.7)), iindexer=Between(frame=(Loc(frame=(Concat(frames=[ArrowStringConversion(frame=FromMapProjectable(f0fcbfc)), ArrowStringConversion(frame=FromMapProjectable(97d55d2)), ArrowStringConversion(frame=FromMapProjectable(ac15cc5))], ))[['trip_distance', 'pickup_longitude', 'pickup_latitude', 'dropoff_longitude', 'dropoff_latitude', 'fare_amount']], iindexer=Between(frame=(Concat(frames=[ArrowStringConversion(frame=FromMapProjectable(f0fcbfc)), ArrowStringConversion(frame=FromMapProjectable(97d55d2)), ArrowStringConversion(frame=FromMapProjectable(ac15cc5))], ))['pickup_latitude'], left=40.6, right=40.85) & Between(frame=(Concat(frames=[ArrowStringConversion(frame=FromMapProjectable(f0fcbfc)), ArrowStringConversion(frame=FromMapProjectable(97d55d2)), ArrowStringConversion(frame=FromMapProjectable(ac15cc5))], ))['pickup_longitude'], left=-74.05, right=-73.7) & Between(frame=(Concat(frames=[ArrowStringConversion(frame=FromMapProjectable(f0fcbfc)), ArrowStringConversion(frame=FromMapProjectable(97d55d2)), ArrowStringConversion(frame=FromMapProjectable(ac15cc5))], ))['dropoff_latitude'], left=40.6, right=40.85) & Between(frame=(Concat(frames=[ArrowStringConversion(frame=FromMapProjectable(f0fcbfc)), ArrowStringConversion(frame=FromMapProjectable(97d55d2)), ArrowStringConversion(frame=FromMapProjectable(ac15cc5))], ))['dropoff_longitude'], left=-74.05, right=-73.7)))['fare_amount'], left=0.5, right=81.0) & Between(frame=(Loc(frame=(Concat(frames=[ArrowStringConversion(frame=FromMapProjectable(f0fcbfc)), ArrowStringConversion(frame=FromMapProjectable(97d55d2)), ArrowStringConversion(frame=FromMapProjectable(ac15cc5))], ))[['trip_distance', 'pickup_longitude', 'pickup_latitude', 'dropoff_longitude', 'dropoff_latitude', 'fare_amount']], iindexer=Between(frame=(Concat(frames=[ArrowStringConversion(frame=FromMapProjectable(f0fcbfc)), ArrowStringConversion(frame=FromMapProjectable(97d55d2)), ArrowStringConversion(frame=FromMapProjectable(ac15cc5))], ))['pickup_latitude'], left=40.6, right=40.85) & Between(frame=(Concat(frames=[ArrowStringConversion(frame=FromMapProjectable(f0fcbfc)), ArrowStringConversion(frame=FromMapProjectable(97d55d2)), ArrowStringConversion(frame=FromMapProjectable(ac15cc5))], ))['pickup_longitude'], left=-74.05, right=-73.7) & Between(frame=(Concat(frames=[ArrowStringConversion(frame=FromMapProjectable(f0fcbfc)), ArrowStringConversion(frame=FromMapProjectable(97d55d2)), ArrowStringConversion(frame=FromMapProjectable(ac15cc5))], ))['dropoff_latitude'], left=40.6, right=40.85) & Between(frame=(Concat(frames=[ArrowStringConversion(frame=FromMapProjectable(f0fcbfc)), ArrowStringConversion(frame=FromMapProjectable(97d55d2)), ArrowStringConversion(frame=FromMapProjectable(ac15cc5))], ))['dropoff_longitude'], left=-74.05, right=-73.7)))['trip_distance'], left=0.25, right=24.43)))[['pickup_latitude', 'pickup_longitude', 'dropoff_latitude', 'dropoff_longitude']]"
      ]
     },
     "execution_count": 14,
     "metadata": {},
     "output_type": "execute_result"
    }
   ],
   "source": [
    "# make a subset of location based columns\n",
    "\n",
    "location_subset = df_final[['pickup_latitude','pickup_longitude', \n",
    "                           'dropoff_latitude','dropoff_longitude']]\n",
    "\n",
    "location_subset"
   ]
  },
  {
   "cell_type": "code",
   "execution_count": 23,
   "id": "e1339cec-cddc-4723-94e4-9a9c707a3576",
   "metadata": {},
   "outputs": [
    {
     "data": {
      "image/png": "[encoded data removed]",
      "text/plain": [
       "<Figure size 1200x500 with 4 Axes>"
      ]
     },
     "metadata": {},
     "output_type": "display_data"
    }
   ],
   "source": [
    "# boxplots for location based columns\n",
    "\n",
    "fig, (ax1, ax2) = plt.subplots(nrows=2, ncols=2, figsize=(12,5))\n",
    "for i in range(4):\n",
    "    if i <= 1:\n",
    "        # plot the boxplot\n",
    "        sns.boxplot(y=location_subset.iloc[:,i].compute(),ax=ax1[i],whis=3)\n",
    "    else:\n",
    "        # plot the boxplot\n",
    "        sns.boxplot(y=location_subset.iloc[:,i].compute(),ax=ax2[i - 2],whis=3)"
   ]
  },
  {
   "cell_type": "markdown",
   "id": "a73e7ca4-2a47-4ed5-9674-feaa547db9ed",
   "metadata": {},
   "source": [
    "## Trip Distance"
   ]
  },
  {
   "cell_type": "code",
   "execution_count": 24,
   "id": "f798ad64-e2c2-4590-89aa-91c52501f29e",
   "metadata": {},
   "outputs": [
    {
     "data": {
      "text/plain": [
       "<Axes: ylabel='trip_distance'>"
      ]
     },
     "execution_count": 24,
     "metadata": {},
     "output_type": "execute_result"
    },
    {
     "data": {
      "image/png": "[encoded data removed]",
      "text/plain": [
       "<Figure size 640x480 with 1 Axes>"
      ]
     },
     "metadata": {},
     "output_type": "display_data"
    }
   ],
   "source": [
    "# boxplot for the trip distance\n",
    "\n",
    "sns.boxplot(df_final.loc[:,\"trip_distance\"].compute(), whis=3)"
   ]
  },
  {
   "cell_type": "markdown",
   "id": "ec390480-7632-457a-b37f-5f1d139e7415",
   "metadata": {},
   "source": [
    "## Fare Amount"
   ]
  },
  {
   "cell_type": "code",
   "execution_count": 25,
   "id": "457ef694-0955-49a2-9177-5036f9b97aa3",
   "metadata": {},
   "outputs": [
    {
     "data": {
      "text/plain": [
       "<Axes: ylabel='fare_amount'>"
      ]
     },
     "execution_count": 25,
     "metadata": {},
     "output_type": "execute_result"
    },
    {
     "data": {
      "image/png": "[encoded data removed]",
      "text/plain": [
       "<Figure size 640x480 with 1 Axes>"
      ]
     },
     "metadata": {},
     "output_type": "display_data"
    }
   ],
   "source": [
    "# boxplot for the fare amount\n",
    "\n",
    "sns.boxplot(df_final.loc[:,\"fare_amount\"].compute(), whis=3)"
   ]
  },
  {
   "cell_type": "code",
   "execution_count": 26,
   "id": "beb65657-a6da-45fb-ae1a-52795ecbebf8",
   "metadata": {},
   "outputs": [],
   "source": [
    "# save the pickup coordinates dataset\n",
    "\n",
    "save_path = \"../data/interim/location_data.csv\"\n",
    "\n",
    "pickup_coord_dataset = df_final.loc[:,['pickup_latitude','pickup_longitude']]"
   ]
  },
  {
   "cell_type": "code",
   "execution_count": 27,
   "id": "ec598bd6-2cf1-407a-b3a3-194e9b88c76e",
   "metadata": {},
   "outputs": [
    {
     "data": {
      "image/svg+xml": [
       "<?xml version=\"1.0\" encoding=\"UTF-8\" standalone=\"no\"?>\n",
       "<!DOCTYPE svg PUBLIC \"-//W3C//DTD SVG 1.1//EN\"\n",
       " \"http://www.w3.org/Graphics/SVG/1.1/DTD/svg11.dtd\">\n",
       "<!-- Generated by graphviz version 12.2.1 (0)\n",
       " -->\n",
       "<!-- Pages: 1 -->\n",
       "<svg width=\"2009pt\" height=\"980pt\"\n",
       " viewBox=\"0.00 0.00 2008.50 980.00\" xmlns=\"http://www.w3.org/2000/svg\" xmlns:xlink=\"http://www.w3.org/1999/xlink\">\n",
       "<g id=\"graph0\" class=\"graph\" transform=\"scale(1 1) rotate(0) translate(4 976)\">\n",
       "<polygon fill=\"white\" stroke=\"none\" points=\"-4,4 -4,-976 2004.5,-976 2004.5,4 -4,4\"/>\n",
       "<!-- &#45;8461916756164561373 -->\n",
       "<g id=\"node1\" class=\"node\">\n",
       "<title>&#45;8461916756164561373</title>\n",
       "<polygon fill=\"none\" stroke=\"black\" points=\"847.62,-972 365.88,-972 365.88,-936 847.62,-936 847.62,-972\"/>\n",
       "<text text-anchor=\"middle\" x=\"606.75\" y=\"-946.62\" font-family=\"Helvetica,sans-Serif\" font-size=\"20.00\">Projection(Loc, [&#39;pickup_latitude&#39;, &#39;pickup_longitude&#39;])</text>\n",
       "</g>\n",
       "<!-- &#45;4101800509543815095 -->\n",
       "<g id=\"node2\" class=\"node\">\n",
       "<title>&#45;4101800509543815095</title>\n",
       "<polygon fill=\"none\" stroke=\"black\" points=\"676.62,-900 536.88,-900 536.88,-864 676.62,-864 676.62,-900\"/>\n",
       "<text text-anchor=\"middle\" x=\"606.75\" y=\"-874.62\" font-family=\"Helvetica,sans-Serif\" font-size=\"20.00\">Loc(Loc, And)</text>\n",
       "</g>\n",
       "<!-- &#45;4101800509543815095&#45;&gt;&#45;8461916756164561373 -->\n",
       "<g id=\"edge1\" class=\"edge\">\n",
       "<title>&#45;4101800509543815095&#45;&gt;&#45;8461916756164561373</title>\n",
       "<path fill=\"none\" stroke=\"black\" d=\"M606.75,-900.3C606.75,-907.59 606.75,-916.27 606.75,-924.46\"/>\n",
       "<polygon fill=\"black\" stroke=\"black\" points=\"603.25,-924.38 606.75,-934.38 610.25,-924.38 603.25,-924.38\"/>\n",
       "</g>\n",
       "<!-- 7627035202155512129 -->\n",
       "<g id=\"node3\" class=\"node\">\n",
       "<title>7627035202155512129</title>\n",
       "<polygon fill=\"none\" stroke=\"black\" points=\"805.75,-828 573.75,-828 573.75,-792 805.75,-792 805.75,-828\"/>\n",
       "<text text-anchor=\"middle\" x=\"689.75\" y=\"-802.62\" font-family=\"Helvetica,sans-Serif\" font-size=\"20.00\">And(Between, Between)</text>\n",
       "</g>\n",
       "<!-- 7627035202155512129&#45;&gt;&#45;4101800509543815095 -->\n",
       "<g id=\"edge2\" class=\"edge\">\n",
       "<title>7627035202155512129&#45;&gt;&#45;4101800509543815095</title>\n",
       "<path fill=\"none\" stroke=\"black\" d=\"M669.23,-828.3C659.16,-836.8 646.84,-847.19 635.82,-856.49\"/>\n",
       "<polygon fill=\"black\" stroke=\"black\" points=\"633.86,-853.55 628.48,-862.68 638.38,-858.91 633.86,-853.55\"/>\n",
       "</g>\n",
       "<!-- &#45;720820503709027417 -->\n",
       "<g id=\"node4\" class=\"node\">\n",
       "<title>&#45;720820503709027417</title>\n",
       "<polygon fill=\"none\" stroke=\"black\" points=\"788.12,-756 591.38,-756 591.38,-720 788.12,-720 788.12,-756\"/>\n",
       "<text text-anchor=\"middle\" x=\"689.75\" y=\"-730.62\" font-family=\"Helvetica,sans-Serif\" font-size=\"20.00\">Between(Projection)</text>\n",
       "</g>\n",
       "<!-- &#45;720820503709027417&#45;&gt;7627035202155512129 -->\n",
       "<g id=\"edge5\" class=\"edge\">\n",
       "<title>&#45;720820503709027417&#45;&gt;7627035202155512129</title>\n",
       "<path fill=\"none\" stroke=\"black\" d=\"M689.75,-756.3C689.75,-763.59 689.75,-772.27 689.75,-780.46\"/>\n",
       "<polygon fill=\"black\" stroke=\"black\" points=\"686.25,-780.38 689.75,-790.38 693.25,-780.38 686.25,-780.38\"/>\n",
       "</g>\n",
       "<!-- 4736711414096127075 -->\n",
       "<g id=\"node5\" class=\"node\">\n",
       "<title>4736711414096127075</title>\n",
       "<polygon fill=\"none\" stroke=\"black\" points=\"827.12,-684 552.38,-684 552.38,-648 827.12,-648 827.12,-684\"/>\n",
       "<text text-anchor=\"middle\" x=\"689.75\" y=\"-658.62\" font-family=\"Helvetica,sans-Serif\" font-size=\"20.00\">Projection(Loc, trip_distance)</text>\n",
       "</g>\n",
       "<!-- 4736711414096127075&#45;&gt;&#45;720820503709027417 -->\n",
       "<g id=\"edge6\" class=\"edge\">\n",
       "<title>4736711414096127075&#45;&gt;&#45;720820503709027417</title>\n",
       "<path fill=\"none\" stroke=\"black\" d=\"M689.75,-684.3C689.75,-691.59 689.75,-700.27 689.75,-708.46\"/>\n",
       "<polygon fill=\"black\" stroke=\"black\" points=\"686.25,-708.38 689.75,-718.38 693.25,-708.38 686.25,-708.38\"/>\n",
       "</g>\n",
       "<!-- &#45;6216379700408320193 -->\n",
       "<g id=\"node6\" class=\"node\">\n",
       "<title>&#45;6216379700408320193</title>\n",
       "<polygon fill=\"none\" stroke=\"black\" points=\"788.12,-612 591.38,-612 591.38,-576 788.12,-576 788.12,-612\"/>\n",
       "<text text-anchor=\"middle\" x=\"689.75\" y=\"-586.62\" font-family=\"Helvetica,sans-Serif\" font-size=\"20.00\">Loc(Projection, And)</text>\n",
       "</g>\n",
       "<!-- &#45;6216379700408320193&#45;&gt;&#45;4101800509543815095 -->\n",
       "<g id=\"edge3\" class=\"edge\">\n",
       "<title>&#45;6216379700408320193&#45;&gt;&#45;4101800509543815095</title>\n",
       "<path fill=\"none\" stroke=\"black\" d=\"M591.03,-612.34C572.46,-620.18 555.28,-631.55 543.75,-648 522.75,-677.97 510.15,-701.51 564.75,-828 568.94,-837.71 575.38,-847.15 581.98,-855.31\"/>\n",
       "<polygon fill=\"black\" stroke=\"black\" points=\"579.21,-857.46 588.38,-862.77 584.52,-852.9 579.21,-857.46\"/>\n",
       "</g>\n",
       "<!-- &#45;6216379700408320193&#45;&gt;4736711414096127075 -->\n",
       "<g id=\"edge7\" class=\"edge\">\n",
       "<title>&#45;6216379700408320193&#45;&gt;4736711414096127075</title>\n",
       "<path fill=\"none\" stroke=\"black\" d=\"M689.75,-612.3C689.75,-619.59 689.75,-628.27 689.75,-636.46\"/>\n",
       "<polygon fill=\"black\" stroke=\"black\" points=\"686.25,-636.38 689.75,-646.38 693.25,-636.38 686.25,-636.38\"/>\n",
       "</g>\n",
       "<!-- &#45;6163932760496167402 -->\n",
       "<g id=\"node27\" class=\"node\">\n",
       "<title>&#45;6163932760496167402</title>\n",
       "<polygon fill=\"none\" stroke=\"black\" points=\"1118.75,-684 844.75,-684 844.75,-648 1118.75,-648 1118.75,-684\"/>\n",
       "<text text-anchor=\"middle\" x=\"981.75\" y=\"-658.62\" font-family=\"Helvetica,sans-Serif\" font-size=\"20.00\">Projection(Loc, fare_amount)</text>\n",
       "</g>\n",
       "<!-- &#45;6216379700408320193&#45;&gt;&#45;6163932760496167402 -->\n",
       "<g id=\"edge32\" class=\"edge\">\n",
       "<title>&#45;6216379700408320193&#45;&gt;&#45;6163932760496167402</title>\n",
       "<path fill=\"none\" stroke=\"black\" d=\"M762.68,-612.48C803.78,-622.34 855.29,-634.69 898.04,-644.93\"/>\n",
       "<polygon fill=\"black\" stroke=\"black\" points=\"896.98,-648.28 907.52,-647.2 898.61,-641.47 896.98,-648.28\"/>\n",
       "</g>\n",
       "<!-- &#45;8515563230732190702 -->\n",
       "<g id=\"node7\" class=\"node\">\n",
       "<title>&#45;8515563230732190702</title>\n",
       "<polygon fill=\"none\" stroke=\"black\" points=\"723.75,-540 533.75,-540 533.75,-504 723.75,-504 723.75,-540\"/>\n",
       "<text text-anchor=\"middle\" x=\"628.75\" y=\"-514.62\" font-family=\"Helvetica,sans-Serif\" font-size=\"20.00\">And(And, Between)</text>\n",
       "</g>\n",
       "<!-- &#45;8515563230732190702&#45;&gt;&#45;6216379700408320193 -->\n",
       "<g id=\"edge8\" class=\"edge\">\n",
       "<title>&#45;8515563230732190702&#45;&gt;&#45;6216379700408320193</title>\n",
       "<path fill=\"none\" stroke=\"black\" d=\"M643.83,-540.3C650.92,-548.44 659.52,-558.31 667.35,-567.3\"/>\n",
       "<polygon fill=\"black\" stroke=\"black\" points=\"664.64,-569.51 673.85,-574.75 669.92,-564.92 664.64,-569.51\"/>\n",
       "</g>\n",
       "<!-- 2952097610448922761 -->\n",
       "<g id=\"node8\" class=\"node\">\n",
       "<title>2952097610448922761</title>\n",
       "<polygon fill=\"none\" stroke=\"black\" points=\"479.12,-468 282.38,-468 282.38,-432 479.12,-432 479.12,-468\"/>\n",
       "<text text-anchor=\"middle\" x=\"380.75\" y=\"-442.62\" font-family=\"Helvetica,sans-Serif\" font-size=\"20.00\">Between(Projection)</text>\n",
       "</g>\n",
       "<!-- 2952097610448922761&#45;&gt;&#45;8515563230732190702 -->\n",
       "<g id=\"edge10\" class=\"edge\">\n",
       "<title>2952097610448922761&#45;&gt;&#45;8515563230732190702</title>\n",
       "<path fill=\"none\" stroke=\"black\" d=\"M442.69,-468.48C477.15,-478.21 520.21,-490.36 556.23,-500.53\"/>\n",
       "<polygon fill=\"black\" stroke=\"black\" points=\"555.14,-503.86 565.71,-503.21 557.04,-497.12 555.14,-503.86\"/>\n",
       "</g>\n",
       "<!-- &#45;4522424336283851624 -->\n",
       "<g id=\"node9\" class=\"node\">\n",
       "<title>&#45;4522424336283851624</title>\n",
       "<polygon fill=\"none\" stroke=\"black\" points=\"347.5,-252 0,-252 0,-216 347.5,-216 347.5,-252\"/>\n",
       "<text text-anchor=\"middle\" x=\"173.75\" y=\"-226.62\" font-family=\"Helvetica,sans-Serif\" font-size=\"20.00\">Projection(Concat, dropoff_longitude)</text>\n",
       "</g>\n",
       "<!-- &#45;4522424336283851624&#45;&gt;2952097610448922761 -->\n",
       "<g id=\"edge12\" class=\"edge\">\n",
       "<title>&#45;4522424336283851624&#45;&gt;2952097610448922761</title>\n",
       "<path fill=\"none\" stroke=\"black\" d=\"M190.34,-252.15C226.68,-289.72 313.45,-379.42 356.16,-423.57\"/>\n",
       "<polygon fill=\"black\" stroke=\"black\" points=\"353.56,-425.93 363.03,-430.68 358.59,-421.06 353.56,-425.93\"/>\n",
       "</g>\n",
       "<!-- 1047404627433382882 -->\n",
       "<g id=\"node10\" class=\"node\">\n",
       "<title>1047404627433382882</title>\n",
       "<polygon fill=\"none\" stroke=\"black\" points=\"1251.12,-180 520.38,-180 520.38,-144 1251.12,-144 1251.12,-180\"/>\n",
       "<text text-anchor=\"middle\" x=\"885.75\" y=\"-154.62\" font-family=\"Helvetica,sans-Serif\" font-size=\"20.00\">Concat(ArrowStringConversion, ArrowStringConversion, ArrowStringConversion)</text>\n",
       "</g>\n",
       "<!-- 1047404627433382882&#45;&gt;&#45;4522424336283851624 -->\n",
       "<g id=\"edge13\" class=\"edge\">\n",
       "<title>1047404627433382882&#45;&gt;&#45;4522424336283851624</title>\n",
       "<path fill=\"none\" stroke=\"black\" d=\"M707.92,-180.48C601.6,-190.94 466.72,-204.2 359.1,-214.78\"/>\n",
       "<polygon fill=\"black\" stroke=\"black\" points=\"358.89,-211.28 349.28,-215.74 359.58,-218.25 358.89,-211.28\"/>\n",
       "</g>\n",
       "<!-- &#45;2722654532471975348 -->\n",
       "<g id=\"node19\" class=\"node\">\n",
       "<title>&#45;2722654532471975348</title>\n",
       "<polygon fill=\"none\" stroke=\"black\" points=\"695.88,-252 365.62,-252 365.62,-216 695.88,-216 695.88,-252\"/>\n",
       "<text text-anchor=\"middle\" x=\"530.75\" y=\"-226.62\" font-family=\"Helvetica,sans-Serif\" font-size=\"20.00\">Projection(Concat, dropoff_latitude)</text>\n",
       "</g>\n",
       "<!-- 1047404627433382882&#45;&gt;&#45;2722654532471975348 -->\n",
       "<g id=\"edge23\" class=\"edge\">\n",
       "<title>1047404627433382882&#45;&gt;&#45;2722654532471975348</title>\n",
       "<path fill=\"none\" stroke=\"black\" d=\"M797.08,-180.48C746.37,-190.48 682.62,-203.05 630.21,-213.39\"/>\n",
       "<polygon fill=\"black\" stroke=\"black\" points=\"629.83,-209.9 620.69,-215.26 631.18,-216.76 629.83,-209.9\"/>\n",
       "</g>\n",
       "<!-- &#45;6539697905586472694 -->\n",
       "<g id=\"node22\" class=\"node\">\n",
       "<title>&#45;6539697905586472694</title>\n",
       "<polygon fill=\"none\" stroke=\"black\" points=\"1057.25,-252 714.25,-252 714.25,-216 1057.25,-216 1057.25,-252\"/>\n",
       "<text text-anchor=\"middle\" x=\"885.75\" y=\"-226.62\" font-family=\"Helvetica,sans-Serif\" font-size=\"20.00\">Projection(Concat, pickup_longitude)</text>\n",
       "</g>\n",
       "<!-- 1047404627433382882&#45;&gt;&#45;6539697905586472694 -->\n",
       "<g id=\"edge27\" class=\"edge\">\n",
       "<title>1047404627433382882&#45;&gt;&#45;6539697905586472694</title>\n",
       "<path fill=\"none\" stroke=\"black\" d=\"M885.75,-180.3C885.75,-187.59 885.75,-196.27 885.75,-204.46\"/>\n",
       "<polygon fill=\"black\" stroke=\"black\" points=\"882.25,-204.38 885.75,-214.38 889.25,-204.38 882.25,-204.38\"/>\n",
       "</g>\n",
       "<!-- &#45;4920818995401094555 -->\n",
       "<g id=\"node24\" class=\"node\">\n",
       "<title>&#45;4920818995401094555</title>\n",
       "<polygon fill=\"none\" stroke=\"black\" points=\"1400.62,-252 1074.88,-252 1074.88,-216 1400.62,-216 1400.62,-252\"/>\n",
       "<text text-anchor=\"middle\" x=\"1237.75\" y=\"-226.62\" font-family=\"Helvetica,sans-Serif\" font-size=\"20.00\">Projection(Concat, pickup_latitude)</text>\n",
       "</g>\n",
       "<!-- 1047404627433382882&#45;&gt;&#45;4920818995401094555 -->\n",
       "<g id=\"edge29\" class=\"edge\">\n",
       "<title>1047404627433382882&#45;&gt;&#45;4920818995401094555</title>\n",
       "<path fill=\"none\" stroke=\"black\" d=\"M973.67,-180.48C1023.85,-190.46 1086.89,-203 1138.8,-213.32\"/>\n",
       "<polygon fill=\"black\" stroke=\"black\" points=\"1138.06,-216.74 1148.56,-215.26 1139.43,-209.88 1138.06,-216.74\"/>\n",
       "</g>\n",
       "<!-- 1157837430088988191 -->\n",
       "<g id=\"node25\" class=\"node\">\n",
       "<title>1157837430088988191</title>\n",
       "<polygon fill=\"none\" stroke=\"black\" points=\"2000.5,-396 897,-396 897,-360 2000.5,-360 2000.5,-396\"/>\n",
       "<text text-anchor=\"middle\" x=\"1448.75\" y=\"-370.62\" font-family=\"Helvetica,sans-Serif\" font-size=\"20.00\">Projection(Concat, [&#39;trip_distance&#39;, &#39;pickup_longitude&#39;, &#39;pickup_latitude&#39;, &#39;dropoff_longitude&#39;, &#39;dropoff_latitude&#39;, &#39;fare_amount&#39;])</text>\n",
       "</g>\n",
       "<!-- 1047404627433382882&#45;&gt;1157837430088988191 -->\n",
       "<g id=\"edge30\" class=\"edge\">\n",
       "<title>1047404627433382882&#45;&gt;1157837430088988191</title>\n",
       "<path fill=\"none\" stroke=\"black\" d=\"M1203.43,-180.5C1303.07,-188.84 1391.94,-200.47 1409.75,-216 1447.54,-248.94 1451.95,-311.66 1450.91,-348.34\"/>\n",
       "<polygon fill=\"black\" stroke=\"black\" points=\"1447.42,-348.03 1450.47,-358.18 1454.42,-348.35 1447.42,-348.03\"/>\n",
       "</g>\n",
       "<!-- &#45;2876101288855384541 -->\n",
       "<g id=\"node11\" class=\"node\">\n",
       "<title>&#45;2876101288855384541</title>\n",
       "<polygon fill=\"none\" stroke=\"black\" points=\"656.62,-108 234.87,-108 234.87,-72 656.62,-72 656.62,-108\"/>\n",
       "<text text-anchor=\"middle\" x=\"445.75\" y=\"-82.62\" font-family=\"Helvetica,sans-Serif\" font-size=\"20.00\">ArrowStringConversion(FromMapProjectable)</text>\n",
       "</g>\n",
       "<!-- &#45;2876101288855384541&#45;&gt;1047404627433382882 -->\n",
       "<g id=\"edge15\" class=\"edge\">\n",
       "<title>&#45;2876101288855384541&#45;&gt;1047404627433382882</title>\n",
       "<path fill=\"none\" stroke=\"black\" d=\"M555.65,-108.48C619.29,-118.61 699.5,-131.37 764.91,-141.78\"/>\n",
       "<polygon fill=\"black\" stroke=\"black\" points=\"764.19,-145.21 774.62,-143.32 765.29,-138.29 764.19,-145.21\"/>\n",
       "</g>\n",
       "<!-- &#45;799920635555476428 -->\n",
       "<g id=\"node12\" class=\"node\">\n",
       "<title>&#45;799920635555476428</title>\n",
       "<polygon fill=\"none\" stroke=\"black\" points=\"546.75,-36 344.75,-36 344.75,0 546.75,0 546.75,-36\"/>\n",
       "<text text-anchor=\"middle\" x=\"445.75\" y=\"-10.62\" font-family=\"Helvetica,sans-Serif\" font-size=\"20.00\">FromMapProjectable</text>\n",
       "</g>\n",
       "<!-- &#45;799920635555476428&#45;&gt;&#45;2876101288855384541 -->\n",
       "<g id=\"edge17\" class=\"edge\">\n",
       "<title>&#45;799920635555476428&#45;&gt;&#45;2876101288855384541</title>\n",
       "<path fill=\"none\" stroke=\"black\" d=\"M445.75,-36.3C445.75,-43.59 445.75,-52.27 445.75,-60.46\"/>\n",
       "<polygon fill=\"black\" stroke=\"black\" points=\"442.25,-60.38 445.75,-70.38 449.25,-60.38 442.25,-60.38\"/>\n",
       "</g>\n",
       "<!-- 4342709614614152540 -->\n",
       "<g id=\"node13\" class=\"node\">\n",
       "<title>4342709614614152540</title>\n",
       "<polygon fill=\"none\" stroke=\"black\" points=\"1096.62,-108 674.88,-108 674.88,-72 1096.62,-72 1096.62,-108\"/>\n",
       "<text text-anchor=\"middle\" x=\"885.75\" y=\"-82.62\" font-family=\"Helvetica,sans-Serif\" font-size=\"20.00\">ArrowStringConversion(FromMapProjectable)</text>\n",
       "</g>\n",
       "<!-- 4342709614614152540&#45;&gt;1047404627433382882 -->\n",
       "<g id=\"edge16\" class=\"edge\">\n",
       "<title>4342709614614152540&#45;&gt;1047404627433382882</title>\n",
       "<path fill=\"none\" stroke=\"black\" d=\"M885.75,-108.3C885.75,-115.59 885.75,-124.27 885.75,-132.46\"/>\n",
       "<polygon fill=\"black\" stroke=\"black\" points=\"882.25,-132.38 885.75,-142.38 889.25,-132.38 882.25,-132.38\"/>\n",
       "</g>\n",
       "<!-- 2977678820544742202 -->\n",
       "<g id=\"node14\" class=\"node\">\n",
       "<title>2977678820544742202</title>\n",
       "<polygon fill=\"none\" stroke=\"black\" points=\"986.75,-36 784.75,-36 784.75,0 986.75,0 986.75,-36\"/>\n",
       "<text text-anchor=\"middle\" x=\"885.75\" y=\"-10.62\" font-family=\"Helvetica,sans-Serif\" font-size=\"20.00\">FromMapProjectable</text>\n",
       "</g>\n",
       "<!-- 2977678820544742202&#45;&gt;4342709614614152540 -->\n",
       "<g id=\"edge18\" class=\"edge\">\n",
       "<title>2977678820544742202&#45;&gt;4342709614614152540</title>\n",
       "<path fill=\"none\" stroke=\"black\" d=\"M885.75,-36.3C885.75,-43.59 885.75,-52.27 885.75,-60.46\"/>\n",
       "<polygon fill=\"black\" stroke=\"black\" points=\"882.25,-60.38 885.75,-70.38 889.25,-60.38 882.25,-60.38\"/>\n",
       "</g>\n",
       "<!-- 4508709006640847978 -->\n",
       "<g id=\"node15\" class=\"node\">\n",
       "<title>4508709006640847978</title>\n",
       "<polygon fill=\"none\" stroke=\"black\" points=\"1536.62,-108 1114.88,-108 1114.88,-72 1536.62,-72 1536.62,-108\"/>\n",
       "<text text-anchor=\"middle\" x=\"1325.75\" y=\"-82.62\" font-family=\"Helvetica,sans-Serif\" font-size=\"20.00\">ArrowStringConversion(FromMapProjectable)</text>\n",
       "</g>\n",
       "<!-- 4508709006640847978&#45;&gt;1047404627433382882 -->\n",
       "<g id=\"edge14\" class=\"edge\">\n",
       "<title>4508709006640847978&#45;&gt;1047404627433382882</title>\n",
       "<path fill=\"none\" stroke=\"black\" d=\"M1215.85,-108.48C1152.21,-118.61 1072,-131.37 1006.59,-141.78\"/>\n",
       "<polygon fill=\"black\" stroke=\"black\" points=\"1006.21,-138.29 996.88,-143.32 1007.31,-145.21 1006.21,-138.29\"/>\n",
       "</g>\n",
       "<!-- 4188079447792586032 -->\n",
       "<g id=\"node16\" class=\"node\">\n",
       "<title>4188079447792586032</title>\n",
       "<polygon fill=\"none\" stroke=\"black\" points=\"1426.75,-36 1224.75,-36 1224.75,0 1426.75,0 1426.75,-36\"/>\n",
       "<text text-anchor=\"middle\" x=\"1325.75\" y=\"-10.62\" font-family=\"Helvetica,sans-Serif\" font-size=\"20.00\">FromMapProjectable</text>\n",
       "</g>\n",
       "<!-- 4188079447792586032&#45;&gt;4508709006640847978 -->\n",
       "<g id=\"edge19\" class=\"edge\">\n",
       "<title>4188079447792586032&#45;&gt;4508709006640847978</title>\n",
       "<path fill=\"none\" stroke=\"black\" d=\"M1325.75,-36.3C1325.75,-43.59 1325.75,-52.27 1325.75,-60.46\"/>\n",
       "<polygon fill=\"black\" stroke=\"black\" points=\"1322.25,-60.38 1325.75,-70.38 1329.25,-60.38 1322.25,-60.38\"/>\n",
       "</g>\n",
       "<!-- 9043829732369244051 -->\n",
       "<g id=\"node17\" class=\"node\">\n",
       "<title>9043829732369244051</title>\n",
       "<polygon fill=\"none\" stroke=\"black\" points=\"723.75,-468 533.75,-468 533.75,-432 723.75,-432 723.75,-468\"/>\n",
       "<text text-anchor=\"middle\" x=\"628.75\" y=\"-442.62\" font-family=\"Helvetica,sans-Serif\" font-size=\"20.00\">And(And, Between)</text>\n",
       "</g>\n",
       "<!-- 9043829732369244051&#45;&gt;&#45;8515563230732190702 -->\n",
       "<g id=\"edge11\" class=\"edge\">\n",
       "<title>9043829732369244051&#45;&gt;&#45;8515563230732190702</title>\n",
       "<path fill=\"none\" stroke=\"black\" d=\"M628.75,-468.3C628.75,-475.59 628.75,-484.27 628.75,-492.46\"/>\n",
       "<polygon fill=\"black\" stroke=\"black\" points=\"625.25,-492.38 628.75,-502.38 632.25,-492.38 625.25,-492.38\"/>\n",
       "</g>\n",
       "<!-- &#45;8117759402211615834 -->\n",
       "<g id=\"node18\" class=\"node\">\n",
       "<title>&#45;8117759402211615834</title>\n",
       "<polygon fill=\"none\" stroke=\"black\" points=\"629.12,-396 432.38,-396 432.38,-360 629.12,-360 629.12,-396\"/>\n",
       "<text text-anchor=\"middle\" x=\"530.75\" y=\"-370.62\" font-family=\"Helvetica,sans-Serif\" font-size=\"20.00\">Between(Projection)</text>\n",
       "</g>\n",
       "<!-- &#45;8117759402211615834&#45;&gt;9043829732369244051 -->\n",
       "<g id=\"edge21\" class=\"edge\">\n",
       "<title>&#45;8117759402211615834&#45;&gt;9043829732369244051</title>\n",
       "<path fill=\"none\" stroke=\"black\" d=\"M555.23,-396.48C567.36,-405.15 582.2,-415.75 595.36,-425.15\"/>\n",
       "<polygon fill=\"black\" stroke=\"black\" points=\"593.18,-427.9 603.35,-430.86 597.25,-422.2 593.18,-427.9\"/>\n",
       "</g>\n",
       "<!-- &#45;2722654532471975348&#45;&gt;&#45;8117759402211615834 -->\n",
       "<g id=\"edge22\" class=\"edge\">\n",
       "<title>&#45;2722654532471975348&#45;&gt;&#45;8117759402211615834</title>\n",
       "<path fill=\"none\" stroke=\"black\" d=\"M530.75,-252.41C530.75,-276.39 530.75,-319.86 530.75,-348.58\"/>\n",
       "<polygon fill=\"black\" stroke=\"black\" points=\"527.25,-348.38 530.75,-358.38 534.25,-348.38 527.25,-348.38\"/>\n",
       "</g>\n",
       "<!-- 8344720158870062747 -->\n",
       "<g id=\"node20\" class=\"node\">\n",
       "<title>8344720158870062747</title>\n",
       "<polygon fill=\"none\" stroke=\"black\" points=\"878.75,-396 646.75,-396 646.75,-360 878.75,-360 878.75,-396\"/>\n",
       "<text text-anchor=\"middle\" x=\"762.75\" y=\"-370.62\" font-family=\"Helvetica,sans-Serif\" font-size=\"20.00\">And(Between, Between)</text>\n",
       "</g>\n",
       "<!-- 8344720158870062747&#45;&gt;9043829732369244051 -->\n",
       "<g id=\"edge20\" class=\"edge\">\n",
       "<title>8344720158870062747&#45;&gt;9043829732369244051</title>\n",
       "<path fill=\"none\" stroke=\"black\" d=\"M729.28,-396.48C711.88,-405.57 690.42,-416.78 671.8,-426.51\"/>\n",
       "<polygon fill=\"black\" stroke=\"black\" points=\"670.38,-423.31 663.13,-431.04 673.62,-429.51 670.38,-423.31\"/>\n",
       "</g>\n",
       "<!-- 4767100731000560316 -->\n",
       "<g id=\"node21\" class=\"node\">\n",
       "<title>4767100731000560316</title>\n",
       "<polygon fill=\"none\" stroke=\"black\" points=\"922.12,-324 725.38,-324 725.38,-288 922.12,-288 922.12,-324\"/>\n",
       "<text text-anchor=\"middle\" x=\"823.75\" y=\"-298.62\" font-family=\"Helvetica,sans-Serif\" font-size=\"20.00\">Between(Projection)</text>\n",
       "</g>\n",
       "<!-- 4767100731000560316&#45;&gt;8344720158870062747 -->\n",
       "<g id=\"edge25\" class=\"edge\">\n",
       "<title>4767100731000560316&#45;&gt;8344720158870062747</title>\n",
       "<path fill=\"none\" stroke=\"black\" d=\"M808.67,-324.3C801.58,-332.44 792.98,-342.31 785.15,-351.3\"/>\n",
       "<polygon fill=\"black\" stroke=\"black\" points=\"782.58,-348.92 778.65,-358.75 787.86,-353.51 782.58,-348.92\"/>\n",
       "</g>\n",
       "<!-- &#45;6539697905586472694&#45;&gt;4767100731000560316 -->\n",
       "<g id=\"edge26\" class=\"edge\">\n",
       "<title>&#45;6539697905586472694&#45;&gt;4767100731000560316</title>\n",
       "<path fill=\"none\" stroke=\"black\" d=\"M870.42,-252.3C863.22,-260.44 854.47,-270.31 846.51,-279.3\"/>\n",
       "<polygon fill=\"black\" stroke=\"black\" points=\"843.91,-276.96 839.9,-286.76 849.15,-281.6 843.91,-276.96\"/>\n",
       "</g>\n",
       "<!-- &#45;7071071604590950032 -->\n",
       "<g id=\"node23\" class=\"node\">\n",
       "<title>&#45;7071071604590950032</title>\n",
       "<polygon fill=\"none\" stroke=\"black\" points=\"1206.12,-324 1009.38,-324 1009.38,-288 1206.12,-288 1206.12,-324\"/>\n",
       "<text text-anchor=\"middle\" x=\"1107.75\" y=\"-298.62\" font-family=\"Helvetica,sans-Serif\" font-size=\"20.00\">Between(Projection)</text>\n",
       "</g>\n",
       "<!-- &#45;7071071604590950032&#45;&gt;8344720158870062747 -->\n",
       "<g id=\"edge24\" class=\"edge\">\n",
       "<title>&#45;7071071604590950032&#45;&gt;8344720158870062747</title>\n",
       "<path fill=\"none\" stroke=\"black\" d=\"M1021.58,-324.48C972.4,-334.46 910.61,-347 859.73,-357.32\"/>\n",
       "<polygon fill=\"black\" stroke=\"black\" points=\"859.3,-353.84 850.2,-359.26 860.7,-360.7 859.3,-353.84\"/>\n",
       "</g>\n",
       "<!-- &#45;4920818995401094555&#45;&gt;&#45;7071071604590950032 -->\n",
       "<g id=\"edge28\" class=\"edge\">\n",
       "<title>&#45;4920818995401094555&#45;&gt;&#45;7071071604590950032</title>\n",
       "<path fill=\"none\" stroke=\"black\" d=\"M1205.28,-252.48C1188.48,-261.53 1167.77,-272.68 1149.77,-282.38\"/>\n",
       "<polygon fill=\"black\" stroke=\"black\" points=\"1148.28,-279.2 1141.14,-287.02 1151.6,-285.36 1148.28,-279.2\"/>\n",
       "</g>\n",
       "<!-- 1157837430088988191&#45;&gt;&#45;6216379700408320193 -->\n",
       "<g id=\"edge9\" class=\"edge\">\n",
       "<title>1157837430088988191&#45;&gt;&#45;6216379700408320193</title>\n",
       "<path fill=\"none\" stroke=\"black\" d=\"M1386.96,-396.42C1247.98,-435.61 911.33,-530.53 762.54,-572.48\"/>\n",
       "<polygon fill=\"black\" stroke=\"black\" points=\"761.86,-569.03 753.18,-575.12 763.76,-575.77 761.86,-569.03\"/>\n",
       "</g>\n",
       "<!-- 3231480584288642805 -->\n",
       "<g id=\"node26\" class=\"node\">\n",
       "<title>3231480584288642805</title>\n",
       "<polygon fill=\"none\" stroke=\"black\" points=\"1041.12,-756 844.38,-756 844.38,-720 1041.12,-720 1041.12,-756\"/>\n",
       "<text text-anchor=\"middle\" x=\"942.75\" y=\"-730.62\" font-family=\"Helvetica,sans-Serif\" font-size=\"20.00\">Between(Projection)</text>\n",
       "</g>\n",
       "<!-- 3231480584288642805&#45;&gt;7627035202155512129 -->\n",
       "<g id=\"edge4\" class=\"edge\">\n",
       "<title>3231480584288642805&#45;&gt;7627035202155512129</title>\n",
       "<path fill=\"none\" stroke=\"black\" d=\"M879.56,-756.48C844.26,-766.25 800.1,-778.47 763.25,-788.66\"/>\n",
       "<polygon fill=\"black\" stroke=\"black\" points=\"762.74,-785.17 754.03,-791.21 764.6,-791.92 762.74,-785.17\"/>\n",
       "</g>\n",
       "<!-- &#45;6163932760496167402&#45;&gt;3231480584288642805 -->\n",
       "<g id=\"edge31\" class=\"edge\">\n",
       "<title>&#45;6163932760496167402&#45;&gt;3231480584288642805</title>\n",
       "<path fill=\"none\" stroke=\"black\" d=\"M972.11,-684.3C967.81,-692.02 962.65,-701.29 957.86,-709.89\"/>\n",
       "<polygon fill=\"black\" stroke=\"black\" points=\"954.83,-708.13 953.02,-718.57 960.94,-711.54 954.83,-708.13\"/>\n",
       "</g>\n",
       "</g>\n",
       "</svg>\n"
      ],
      "text/plain": [
       "<graphviz.graphs.Digraph at 0x27480179370>"
      ]
     },
     "execution_count": 27,
     "metadata": {},
     "output_type": "execute_result"
    }
   ],
   "source": [
    "pickup_coord_dataset.visualize()"
   ]
  },
  {
   "cell_type": "code",
   "execution_count": 28,
   "id": "ef37b912-f0de-4807-8c83-e1acb4f7c667",
   "metadata": {},
   "outputs": [
    {
     "name": "stdout",
     "output_type": "stream",
     "text": [
      "Shape of the dataset is  (33234199, 2)\n"
     ]
    }
   ],
   "source": [
    "# form the dataset\n",
    "\n",
    "pickup_coord_dataset = df_final.loc[:,['pickup_latitude','pickup_longitude']].compute()\n",
    "\n",
    "print(\"Shape of the dataset is \", pickup_coord_dataset.shape)"
   ]
  },
  {
   "cell_type": "code",
   "execution_count": 29,
   "id": "d7659753-ceec-41a7-a936-dbe1536b0d9a",
   "metadata": {},
   "outputs": [
    {
     "data": {
      "text/html": [
       "<div>\n",
       "<style scoped>\n",
       "    .dataframe tbody tr th:only-of-type {\n",
       "        vertical-align: middle;\n",
       "    }\n",
       "\n",
       "    .dataframe tbody tr th {\n",
       "        vertical-align: top;\n",
       "    }\n",
       "\n",
       "    .dataframe thead th {\n",
       "        text-align: right;\n",
       "    }\n",
       "</style>\n",
       "<table border=\"1\" class=\"dataframe\">\n",
       "  <thead>\n",
       "    <tr style=\"text-align: right;\">\n",
       "      <th></th>\n",
       "      <th>pickup_latitude</th>\n",
       "      <th>pickup_longitude</th>\n",
       "    </tr>\n",
       "  </thead>\n",
       "  <tbody>\n",
       "    <tr>\n",
       "      <th>0</th>\n",
       "      <td>40.734695</td>\n",
       "      <td>-73.990372</td>\n",
       "    </tr>\n",
       "    <tr>\n",
       "      <th>1</th>\n",
       "      <td>40.729912</td>\n",
       "      <td>-73.980782</td>\n",
       "    </tr>\n",
       "    <tr>\n",
       "      <th>2</th>\n",
       "      <td>40.679565</td>\n",
       "      <td>-73.984550</td>\n",
       "    </tr>\n",
       "    <tr>\n",
       "      <th>3</th>\n",
       "      <td>40.718990</td>\n",
       "      <td>-73.993469</td>\n",
       "    </tr>\n",
       "    <tr>\n",
       "      <th>4</th>\n",
       "      <td>40.781330</td>\n",
       "      <td>-73.960625</td>\n",
       "    </tr>\n",
       "    <tr>\n",
       "      <th>...</th>\n",
       "      <td>...</td>\n",
       "      <td>...</td>\n",
       "    </tr>\n",
       "    <tr>\n",
       "      <th>420269</th>\n",
       "      <td>40.644451</td>\n",
       "      <td>-73.790565</td>\n",
       "    </tr>\n",
       "    <tr>\n",
       "      <th>420270</th>\n",
       "      <td>40.641483</td>\n",
       "      <td>-73.788055</td>\n",
       "    </tr>\n",
       "    <tr>\n",
       "      <th>420271</th>\n",
       "      <td>40.646736</td>\n",
       "      <td>-73.789154</td>\n",
       "    </tr>\n",
       "    <tr>\n",
       "      <th>420273</th>\n",
       "      <td>40.774471</td>\n",
       "      <td>-73.977356</td>\n",
       "    </tr>\n",
       "    <tr>\n",
       "      <th>420276</th>\n",
       "      <td>40.645096</td>\n",
       "      <td>-73.798485</td>\n",
       "    </tr>\n",
       "  </tbody>\n",
       "</table>\n",
       "<p>33234199 rows × 2 columns</p>\n",
       "</div>"
      ],
      "text/plain": [
       "        pickup_latitude  pickup_longitude\n",
       "0             40.734695        -73.990372\n",
       "1             40.729912        -73.980782\n",
       "2             40.679565        -73.984550\n",
       "3             40.718990        -73.993469\n",
       "4             40.781330        -73.960625\n",
       "...                 ...               ...\n",
       "420269        40.644451        -73.790565\n",
       "420270        40.641483        -73.788055\n",
       "420271        40.646736        -73.789154\n",
       "420273        40.774471        -73.977356\n",
       "420276        40.645096        -73.798485\n",
       "\n",
       "[33234199 rows x 2 columns]"
      ]
     },
     "execution_count": 29,
     "metadata": {},
     "output_type": "execute_result"
    }
   ],
   "source": [
    "pickup_coord_dataset"
   ]
  },
  {
   "cell_type": "code",
   "execution_count": 30,
   "id": "0ed8f1b0-38cb-4a5a-9cff-647b38ee879f",
   "metadata": {},
   "outputs": [],
   "source": [
    "# save the dataset\n",
    "\n",
    "pickup_coord_dataset.to_csv(save_path, index=False)"
   ]
  },
  {
   "cell_type": "code",
   "execution_count": null,
   "id": "0eb1d676-f674-4eb6-8357-76a9eb098186",
   "metadata": {},
   "outputs": [],
   "source": []
  }
 ],
 "metadata": {
  "kernelspec": {
   "display_name": "Python 3 (ipykernel)",
   "language": "python",
   "name": "python3"
  },
  "language_info": {
   "codemirror_mode": {
    "name": "ipython",
    "version": 3
   },
   "file_extension": ".py",
   "mimetype": "text/x-python",
   "name": "python",
   "nbconvert_exporter": "python",
   "pygments_lexer": "ipython3",
   "version": "3.12.8"
  }
 },
 "nbformat": 4,
 "nbformat_minor": 5
}
